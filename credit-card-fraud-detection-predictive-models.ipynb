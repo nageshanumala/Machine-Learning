{
 "cells": [
  {
   "cell_type": "markdown",
   "metadata": {
    "_uuid": "0b64f006df02ccee229320fef8063dc5a2933c1a"
   },
   "source": [
    "# <a id=\"1\">Introduction</a>  \n",
    "\n",
    "The datasets contains transactions made by credit cards in **September 2013** by european cardholders. This dataset presents transactions that occurred in two days, where we have **492 frauds** out of **284,807 transactions**. The dataset is **highly unbalanced**, the **positive class (frauds)** account for **0.172%** of all transactions.  \n",
    "\n",
    "It contains only numerical input variables which are the result of a **PCA transformation**.   \n",
    "\n",
    "Due to confidentiality issues, there are not provided the original features and more background information about the data.  \n",
    "\n",
    "* Features **V1**, **V2**, ... **V28** are the **principal components** obtained with **PCA**;  \n",
    "* The only features which have not been transformed with PCA are **Time** and **Amount**. Feature **Time** contains the seconds elapsed between each transaction and the first transaction in the dataset. The feature **Amount** is the transaction Amount, this feature can be used for example-dependant cost-senstive learning.   \n",
    "* Feature **Class** is the response variable and it takes value **1** in case of fraud and **0** otherwise.  \n",
    "\n"
   ]
  },
  {
   "cell_type": "markdown",
   "metadata": {
    "_uuid": "e94b258fe0c91fd5bb76107c509fc896db021f2b"
   },
   "source": [
    "# <a id=\"2\">Load packages</a>"
   ]
  },
  {
   "cell_type": "code",
   "execution_count": 3,
   "metadata": {
    "_uuid": "0f34e1e378b762166698b0136c57048a45e7858c"
   },
   "outputs": [
    {
     "data": {
      "text/html": [
       "<script type=\"text/javascript\">window.PlotlyConfig = {MathJaxConfig: 'local'};</script><script type=\"text/javascript\">if (window.MathJax) {MathJax.Hub.Config({SVG: {font: \"STIX-Web\"}});}</script><script>requirejs.config({paths: { 'plotly': ['https://cdn.plot.ly/plotly-latest.min']},});if(!window._Plotly) {require(['plotly'],function(plotly) {window._Plotly=plotly;});}</script>"
      ],
      "text/vnd.plotly.v1+html": [
       "<script type=\"text/javascript\">window.PlotlyConfig = {MathJaxConfig: 'local'};</script><script type=\"text/javascript\">if (window.MathJax) {MathJax.Hub.Config({SVG: {font: \"STIX-Web\"}});}</script><script>requirejs.config({paths: { 'plotly': ['https://cdn.plot.ly/plotly-latest.min']},});if(!window._Plotly) {require(['plotly'],function(plotly) {window._Plotly=plotly;});}</script>"
      ]
     },
     "metadata": {},
     "output_type": "display_data"
    },
    {
     "name": "stderr",
     "output_type": "stream",
     "text": [
      "/anaconda3/lib/python3.6/site-packages/lightgbm/__init__.py:46: UserWarning:\n",
      "\n",
      "Starting from version 2.2.1, the library file in distribution wheels for macOS is built by the Apple Clang (Xcode_9.4.1) compiler.\n",
      "This means that in case of installing LightGBM from PyPI via the ``pip install lightgbm`` command, you don't need to install the gcc compiler anymore.\n",
      "Instead of that, you need to install the OpenMP library, which is required for running LightGBM on the system with the Apple Clang compiler.\n",
      "You can install the OpenMP library by the following command: ``brew install libomp``.\n",
      "\n"
     ]
    }
   ],
   "source": [
    "import pandas as pd \n",
    "import numpy as np\n",
    "import matplotlib\n",
    "import matplotlib.pyplot as plt\n",
    "import seaborn as sns\n",
    "%matplotlib inline \n",
    "import plotly.graph_objs as go\n",
    "import plotly.figure_factory as ff\n",
    "from plotly import tools\n",
    "from plotly.offline import download_plotlyjs, init_notebook_mode, plot, iplot\n",
    "init_notebook_mode(connected=True)\n",
    "\n",
    "\n",
    "import gc\n",
    "from datetime import datetime \n",
    "from sklearn.model_selection import train_test_split\n",
    "from sklearn.model_selection import KFold\n",
    "from sklearn.metrics import roc_auc_score\n",
    "from sklearn.ensemble import RandomForestClassifier\n",
    "from sklearn.ensemble import AdaBoostClassifier\n",
    "from catboost import CatBoostClassifier\n",
    "from sklearn import svm\n",
    "import lightgbm as lgb\n",
    "from lightgbm import LGBMClassifier\n",
    "import xgboost as xgb\n",
    "\n",
    "pd.set_option('display.max_columns', 100)\n",
    "\n",
    "\n",
    "RFC_METRIC = 'gini'  #metric used for RandomForrestClassifier\n",
    "NUM_ESTIMATORS = 100 #number of estimators used for RandomForrestClassifier\n",
    "NO_JOBS = 4 #number of parallel jobs used for RandomForrestClassifier\n",
    "\n",
    "\n",
    "#TRAIN/VALIDATION/TEST SPLIT\n",
    "#VALIDATION\n",
    "VALID_SIZE = 0.20 # simple validation using train_test_split\n",
    "TEST_SIZE = 0.20 # test size using_train_test_split\n",
    "\n",
    "#CROSS-VALIDATION\n",
    "NUMBER_KFOLDS = 5 #number of KFolds for cross-validation\n",
    "\n",
    "\n",
    "\n",
    "RANDOM_STATE = 2018\n",
    "\n",
    "MAX_ROUNDS = 1000 #lgb iterations\n",
    "EARLY_STOP = 50 #lgb early stop \n",
    "OPT_ROUNDS = 1000  #To be adjusted based on best validation rounds\n",
    "VERBOSE_EVAL = 50 #Print out metric result\n",
    "\n",
    "IS_LOCAL = False\n",
    "\n",
    "import os\n",
    "\n"
   ]
  },
  {
   "cell_type": "markdown",
   "metadata": {
    "_uuid": "9eb142be459775c38046265e3b27ccbfd63ed0f6"
   },
   "source": [
    "# <a id=\"3\">Read the data</a>"
   ]
  },
  {
   "cell_type": "code",
   "execution_count": 4,
   "metadata": {
    "_uuid": "42e4a9f9b53f6d46cabd00b64a0e9f52b7abcd82"
   },
   "outputs": [],
   "source": [
    "data_df = pd.read_csv(\"datasetForFinalAssignment.csv\")"
   ]
  },
  {
   "cell_type": "markdown",
   "metadata": {
    "_uuid": "0148d5c242773fbe8a10ae54873b6e59b083398e"
   },
   "source": [
    "# <a id=\"4\">Check the data</a>"
   ]
  },
  {
   "cell_type": "code",
   "execution_count": 5,
   "metadata": {
    "_uuid": "ed93a290bcf10bcf817dc9489a308d489c0cfd40"
   },
   "outputs": [
    {
     "name": "stdout",
     "output_type": "stream",
     "text": [
      "Credit Card Fraud Detection data -  rows: 74691  columns: 14\n"
     ]
    }
   ],
   "source": [
    "print(\"Credit Card Fraud Detection data -  rows:\",data_df.shape[0],\" columns:\", data_df.shape[1])"
   ]
  },
  {
   "cell_type": "markdown",
   "metadata": {
    "_uuid": "91c1d7ca1b2e1a15d2dd83c3478df667d6ba6ace"
   },
   "source": [
    "## <a id=\"41\">Glimpse the data</a>\n",
    "\n",
    "We start by looking to the data features (first 5 rows)."
   ]
  },
  {
   "cell_type": "code",
   "execution_count": 6,
   "metadata": {
    "_uuid": "c426639fdeb77bea60513724c6c438a5e8a02f8a"
   },
   "outputs": [
    {
     "data": {
      "text/html": [
       "<div>\n",
       "<style scoped>\n",
       "    .dataframe tbody tr th:only-of-type {\n",
       "        vertical-align: middle;\n",
       "    }\n",
       "\n",
       "    .dataframe tbody tr th {\n",
       "        vertical-align: top;\n",
       "    }\n",
       "\n",
       "    .dataframe thead th {\n",
       "        text-align: right;\n",
       "    }\n",
       "</style>\n",
       "<table border=\"1\" class=\"dataframe\">\n",
       "  <thead>\n",
       "    <tr style=\"text-align: right;\">\n",
       "      <th></th>\n",
       "      <th>Column 1</th>\n",
       "      <th>user_id</th>\n",
       "      <th>signup_time</th>\n",
       "      <th>purchase_time</th>\n",
       "      <th>signup_time-purchase_time</th>\n",
       "      <th>purchase_value</th>\n",
       "      <th>device_id</th>\n",
       "      <th>source</th>\n",
       "      <th>browser</th>\n",
       "      <th>sex</th>\n",
       "      <th>age</th>\n",
       "      <th>ip_address</th>\n",
       "      <th>class</th>\n",
       "      <th>N[device_id]</th>\n",
       "    </tr>\n",
       "  </thead>\n",
       "  <tbody>\n",
       "    <tr>\n",
       "      <th>0</th>\n",
       "      <td>149671</td>\n",
       "      <td>285108</td>\n",
       "      <td>07/15/2015 4:36 AM</td>\n",
       "      <td>09/10/2015 2:17 PM</td>\n",
       "      <td>82661</td>\n",
       "      <td>31</td>\n",
       "      <td>HZAKVUFTDOSFD</td>\n",
       "      <td>Direct</td>\n",
       "      <td>Chrome</td>\n",
       "      <td>M</td>\n",
       "      <td>49</td>\n",
       "      <td>2.818400e+09</td>\n",
       "      <td>0</td>\n",
       "      <td>2</td>\n",
       "    </tr>\n",
       "    <tr>\n",
       "      <th>1</th>\n",
       "      <td>84546</td>\n",
       "      <td>229053</td>\n",
       "      <td>01/07/2015 1:19 PM</td>\n",
       "      <td>01/09/2015 10:12 AM</td>\n",
       "      <td>2693</td>\n",
       "      <td>29</td>\n",
       "      <td>MFFIHYNXCJLEY</td>\n",
       "      <td>SEO</td>\n",
       "      <td>Chrome</td>\n",
       "      <td>M</td>\n",
       "      <td>34</td>\n",
       "      <td>2.083420e+09</td>\n",
       "      <td>0</td>\n",
       "      <td>1</td>\n",
       "    </tr>\n",
       "    <tr>\n",
       "      <th>2</th>\n",
       "      <td>35978</td>\n",
       "      <td>108439</td>\n",
       "      <td>02/08/2015 9:11 PM</td>\n",
       "      <td>04/09/2015 2:26 PM</td>\n",
       "      <td>85995</td>\n",
       "      <td>26</td>\n",
       "      <td>WMSXWGVPNIFBM</td>\n",
       "      <td>Ads</td>\n",
       "      <td>FireFox</td>\n",
       "      <td>M</td>\n",
       "      <td>33</td>\n",
       "      <td>3.207913e+09</td>\n",
       "      <td>0</td>\n",
       "      <td>1</td>\n",
       "    </tr>\n",
       "    <tr>\n",
       "      <th>3</th>\n",
       "      <td>103053</td>\n",
       "      <td>178528</td>\n",
       "      <td>04/20/2015 8:19 PM</td>\n",
       "      <td>08/03/2015 8:17 PM</td>\n",
       "      <td>151198</td>\n",
       "      <td>35</td>\n",
       "      <td>HUFZWLDYJPRCK</td>\n",
       "      <td>SEO</td>\n",
       "      <td>Chrome</td>\n",
       "      <td>F</td>\n",
       "      <td>30</td>\n",
       "      <td>2.550204e+09</td>\n",
       "      <td>0</td>\n",
       "      <td>1</td>\n",
       "    </tr>\n",
       "    <tr>\n",
       "      <th>4</th>\n",
       "      <td>101025</td>\n",
       "      <td>70424</td>\n",
       "      <td>07/05/2015 4:54 PM</td>\n",
       "      <td>08/25/2015 4:08 PM</td>\n",
       "      <td>73394</td>\n",
       "      <td>43</td>\n",
       "      <td>YDLNPVEWMTMMZ</td>\n",
       "      <td>Direct</td>\n",
       "      <td>IE</td>\n",
       "      <td>M</td>\n",
       "      <td>40</td>\n",
       "      <td>3.310808e+09</td>\n",
       "      <td>0</td>\n",
       "      <td>1</td>\n",
       "    </tr>\n",
       "  </tbody>\n",
       "</table>\n",
       "</div>"
      ],
      "text/plain": [
       "   Column 1  user_id         signup_time        purchase_time  \\\n",
       "0    149671   285108  07/15/2015 4:36 AM   09/10/2015 2:17 PM   \n",
       "1     84546   229053  01/07/2015 1:19 PM  01/09/2015 10:12 AM   \n",
       "2     35978   108439  02/08/2015 9:11 PM   04/09/2015 2:26 PM   \n",
       "3    103053   178528  04/20/2015 8:19 PM   08/03/2015 8:17 PM   \n",
       "4    101025    70424  07/05/2015 4:54 PM   08/25/2015 4:08 PM   \n",
       "\n",
       "   signup_time-purchase_time  purchase_value      device_id  source  browser  \\\n",
       "0                      82661              31  HZAKVUFTDOSFD  Direct   Chrome   \n",
       "1                       2693              29  MFFIHYNXCJLEY     SEO   Chrome   \n",
       "2                      85995              26  WMSXWGVPNIFBM     Ads  FireFox   \n",
       "3                     151198              35  HUFZWLDYJPRCK     SEO   Chrome   \n",
       "4                      73394              43  YDLNPVEWMTMMZ  Direct       IE   \n",
       "\n",
       "  sex  age    ip_address  class  N[device_id]  \n",
       "0   M   49  2.818400e+09      0             2  \n",
       "1   M   34  2.083420e+09      0             1  \n",
       "2   M   33  3.207913e+09      0             1  \n",
       "3   F   30  2.550204e+09      0             1  \n",
       "4   M   40  3.310808e+09      0             1  "
      ]
     },
     "execution_count": 6,
     "metadata": {},
     "output_type": "execute_result"
    }
   ],
   "source": [
    "data_df.head()"
   ]
  },
  {
   "cell_type": "markdown",
   "metadata": {
    "_uuid": "df10bc43389fb9e8159150a566bd52abd0dd2839"
   },
   "source": [
    "Let's look into more details to the data."
   ]
  },
  {
   "cell_type": "code",
   "execution_count": 8,
   "metadata": {
    "_uuid": "8705f721907820bfc8c720f2f5ac5e0f9f28fa42"
   },
   "outputs": [
    {
     "data": {
      "text/html": [
       "<div>\n",
       "<style scoped>\n",
       "    .dataframe tbody tr th:only-of-type {\n",
       "        vertical-align: middle;\n",
       "    }\n",
       "\n",
       "    .dataframe tbody tr th {\n",
       "        vertical-align: top;\n",
       "    }\n",
       "\n",
       "    .dataframe thead th {\n",
       "        text-align: right;\n",
       "    }\n",
       "</style>\n",
       "<table border=\"1\" class=\"dataframe\">\n",
       "  <thead>\n",
       "    <tr style=\"text-align: right;\">\n",
       "      <th></th>\n",
       "      <th>Column 1</th>\n",
       "      <th>user_id</th>\n",
       "      <th>signup_time-purchase_time</th>\n",
       "      <th>purchase_value</th>\n",
       "      <th>age</th>\n",
       "      <th>ip_address</th>\n",
       "      <th>class</th>\n",
       "      <th>N[device_id]</th>\n",
       "    </tr>\n",
       "  </thead>\n",
       "  <tbody>\n",
       "    <tr>\n",
       "      <th>count</th>\n",
       "      <td>74691.000000</td>\n",
       "      <td>74691.000000</td>\n",
       "      <td>74691.000000</td>\n",
       "      <td>74691.000000</td>\n",
       "      <td>74691.000000</td>\n",
       "      <td>7.469100e+04</td>\n",
       "      <td>74691.000000</td>\n",
       "      <td>74691.000000</td>\n",
       "    </tr>\n",
       "    <tr>\n",
       "      <th>mean</th>\n",
       "      <td>75637.681648</td>\n",
       "      <td>200530.574567</td>\n",
       "      <td>82187.398428</td>\n",
       "      <td>36.885421</td>\n",
       "      <td>33.139120</td>\n",
       "      <td>2.151503e+09</td>\n",
       "      <td>0.093813</td>\n",
       "      <td>1.535419</td>\n",
       "    </tr>\n",
       "    <tr>\n",
       "      <th>std</th>\n",
       "      <td>43636.921472</td>\n",
       "      <td>115210.482959</td>\n",
       "      <td>52099.805375</td>\n",
       "      <td>18.355692</td>\n",
       "      <td>8.639987</td>\n",
       "      <td>1.245564e+09</td>\n",
       "      <td>0.291571</td>\n",
       "      <td>2.079428</td>\n",
       "    </tr>\n",
       "    <tr>\n",
       "      <th>min</th>\n",
       "      <td>1.000000</td>\n",
       "      <td>8.000000</td>\n",
       "      <td>0.000000</td>\n",
       "      <td>9.000000</td>\n",
       "      <td>18.000000</td>\n",
       "      <td>1.058185e+05</td>\n",
       "      <td>0.000000</td>\n",
       "      <td>1.000000</td>\n",
       "    </tr>\n",
       "    <tr>\n",
       "      <th>25%</th>\n",
       "      <td>37815.000000</td>\n",
       "      <td>101344.000000</td>\n",
       "      <td>36380.500000</td>\n",
       "      <td>22.000000</td>\n",
       "      <td>27.000000</td>\n",
       "      <td>1.090013e+09</td>\n",
       "      <td>0.000000</td>\n",
       "      <td>1.000000</td>\n",
       "    </tr>\n",
       "    <tr>\n",
       "      <th>50%</th>\n",
       "      <td>75818.000000</td>\n",
       "      <td>200195.000000</td>\n",
       "      <td>81774.000000</td>\n",
       "      <td>34.000000</td>\n",
       "      <td>33.000000</td>\n",
       "      <td>2.155904e+09</td>\n",
       "      <td>0.000000</td>\n",
       "      <td>1.000000</td>\n",
       "    </tr>\n",
       "    <tr>\n",
       "      <th>75%</th>\n",
       "      <td>113376.500000</td>\n",
       "      <td>300729.500000</td>\n",
       "      <td>127365.500000</td>\n",
       "      <td>49.000000</td>\n",
       "      <td>39.000000</td>\n",
       "      <td>3.235917e+09</td>\n",
       "      <td>0.000000</td>\n",
       "      <td>1.000000</td>\n",
       "    </tr>\n",
       "    <tr>\n",
       "      <th>max</th>\n",
       "      <td>151108.000000</td>\n",
       "      <td>399993.000000</td>\n",
       "      <td>172799.000000</td>\n",
       "      <td>129.000000</td>\n",
       "      <td>76.000000</td>\n",
       "      <td>4.294850e+09</td>\n",
       "      <td>1.000000</td>\n",
       "      <td>19.000000</td>\n",
       "    </tr>\n",
       "  </tbody>\n",
       "</table>\n",
       "</div>"
      ],
      "text/plain": [
       "            Column 1        user_id  signup_time-purchase_time  \\\n",
       "count   74691.000000   74691.000000               74691.000000   \n",
       "mean    75637.681648  200530.574567               82187.398428   \n",
       "std     43636.921472  115210.482959               52099.805375   \n",
       "min         1.000000       8.000000                   0.000000   \n",
       "25%     37815.000000  101344.000000               36380.500000   \n",
       "50%     75818.000000  200195.000000               81774.000000   \n",
       "75%    113376.500000  300729.500000              127365.500000   \n",
       "max    151108.000000  399993.000000              172799.000000   \n",
       "\n",
       "       purchase_value           age    ip_address         class  N[device_id]  \n",
       "count    74691.000000  74691.000000  7.469100e+04  74691.000000  74691.000000  \n",
       "mean        36.885421     33.139120  2.151503e+09      0.093813      1.535419  \n",
       "std         18.355692      8.639987  1.245564e+09      0.291571      2.079428  \n",
       "min          9.000000     18.000000  1.058185e+05      0.000000      1.000000  \n",
       "25%         22.000000     27.000000  1.090013e+09      0.000000      1.000000  \n",
       "50%         34.000000     33.000000  2.155904e+09      0.000000      1.000000  \n",
       "75%         49.000000     39.000000  3.235917e+09      0.000000      1.000000  \n",
       "max        129.000000     76.000000  4.294850e+09      1.000000     19.000000  "
      ]
     },
     "execution_count": 8,
     "metadata": {},
     "output_type": "execute_result"
    }
   ],
   "source": [
    "data_df.describe()"
   ]
  },
  {
   "cell_type": "markdown",
   "metadata": {
    "_uuid": "bf88e4180834a1bf7e76a583328094926fade824"
   },
   "source": [
    "Looking to the **Time** feature, we can confirm that the data contains **284,807** transactions, during 2 consecutive days (or **172792** seconds)."
   ]
  },
  {
   "cell_type": "markdown",
   "metadata": {
    "_uuid": "39299ca7dc0324113fcd854530cbe7a945cc94bb"
   },
   "source": [
    "## <a id=\"42\">Check missing data</a>  \n",
    "\n",
    "Let's check if there is any missing data."
   ]
  },
  {
   "cell_type": "code",
   "execution_count": 9,
   "metadata": {
    "_uuid": "51940c5cfb59bb4720d70157c310a339ce483eb6"
   },
   "outputs": [
    {
     "data": {
      "text/html": [
       "<div>\n",
       "<style scoped>\n",
       "    .dataframe tbody tr th:only-of-type {\n",
       "        vertical-align: middle;\n",
       "    }\n",
       "\n",
       "    .dataframe tbody tr th {\n",
       "        vertical-align: top;\n",
       "    }\n",
       "\n",
       "    .dataframe thead th {\n",
       "        text-align: right;\n",
       "    }\n",
       "</style>\n",
       "<table border=\"1\" class=\"dataframe\">\n",
       "  <thead>\n",
       "    <tr style=\"text-align: right;\">\n",
       "      <th></th>\n",
       "      <th>N[device_id]</th>\n",
       "      <th>class</th>\n",
       "      <th>ip_address</th>\n",
       "      <th>age</th>\n",
       "      <th>sex</th>\n",
       "      <th>browser</th>\n",
       "      <th>source</th>\n",
       "      <th>device_id</th>\n",
       "      <th>purchase_value</th>\n",
       "      <th>signup_time-purchase_time</th>\n",
       "      <th>purchase_time</th>\n",
       "      <th>signup_time</th>\n",
       "      <th>user_id</th>\n",
       "      <th>Column 1</th>\n",
       "    </tr>\n",
       "  </thead>\n",
       "  <tbody>\n",
       "    <tr>\n",
       "      <th>Total</th>\n",
       "      <td>0.0</td>\n",
       "      <td>0.0</td>\n",
       "      <td>0.0</td>\n",
       "      <td>0.0</td>\n",
       "      <td>0.0</td>\n",
       "      <td>0.0</td>\n",
       "      <td>0.0</td>\n",
       "      <td>0.0</td>\n",
       "      <td>0.0</td>\n",
       "      <td>0.0</td>\n",
       "      <td>0.0</td>\n",
       "      <td>0.0</td>\n",
       "      <td>0.0</td>\n",
       "      <td>0.0</td>\n",
       "    </tr>\n",
       "    <tr>\n",
       "      <th>Percent</th>\n",
       "      <td>0.0</td>\n",
       "      <td>0.0</td>\n",
       "      <td>0.0</td>\n",
       "      <td>0.0</td>\n",
       "      <td>0.0</td>\n",
       "      <td>0.0</td>\n",
       "      <td>0.0</td>\n",
       "      <td>0.0</td>\n",
       "      <td>0.0</td>\n",
       "      <td>0.0</td>\n",
       "      <td>0.0</td>\n",
       "      <td>0.0</td>\n",
       "      <td>0.0</td>\n",
       "      <td>0.0</td>\n",
       "    </tr>\n",
       "  </tbody>\n",
       "</table>\n",
       "</div>"
      ],
      "text/plain": [
       "         N[device_id]  class  ip_address  age  sex  browser  source  \\\n",
       "Total             0.0    0.0         0.0  0.0  0.0      0.0     0.0   \n",
       "Percent           0.0    0.0         0.0  0.0  0.0      0.0     0.0   \n",
       "\n",
       "         device_id  purchase_value  signup_time-purchase_time  purchase_time  \\\n",
       "Total          0.0             0.0                        0.0            0.0   \n",
       "Percent        0.0             0.0                        0.0            0.0   \n",
       "\n",
       "         signup_time  user_id  Column 1  \n",
       "Total            0.0      0.0       0.0  \n",
       "Percent          0.0      0.0       0.0  "
      ]
     },
     "execution_count": 9,
     "metadata": {},
     "output_type": "execute_result"
    }
   ],
   "source": [
    "total = data_df.isnull().sum().sort_values(ascending = False)\n",
    "percent = (data_df.isnull().sum()/data_df.isnull().count()*100).sort_values(ascending = False)\n",
    "pd.concat([total, percent], axis=1, keys=['Total', 'Percent']).transpose()"
   ]
  },
  {
   "cell_type": "markdown",
   "metadata": {
    "_uuid": "aa67814319f2b87367a7a675d956f1aa8f806363"
   },
   "source": [
    "There is no missing data in the entire dataset."
   ]
  },
  {
   "cell_type": "markdown",
   "metadata": {
    "_uuid": "5c17d77aaa693057767dc2a0a23efbcae8f9f34e"
   },
   "source": [
    "## <a id=\"43\">Data unbalance</a>"
   ]
  },
  {
   "cell_type": "markdown",
   "metadata": {
    "_uuid": "dc1ecb4caa03723aa3e3153fe1311ed532464b54"
   },
   "source": [
    "Let's check data unbalance with respect with *target* value, i.e. **Class**."
   ]
  },
  {
   "cell_type": "code",
   "execution_count": 11,
   "metadata": {
    "_uuid": "c07847fe84817c98455db7ad7e49c5d991ac58a9"
   },
   "outputs": [
    {
     "data": {
      "text/plain": [
       "<matplotlib.axes._subplots.AxesSubplot at 0x1c26b02be0>"
      ]
     },
     "execution_count": 11,
     "metadata": {},
     "output_type": "execute_result"
    },
    {
     "data": {
      "image/png": "[encoded data removed]",
      "text/plain": [
       "<Figure size 432x288 with 1 Axes>"
      ]
     },
     "metadata": {
      "needs_background": "light"
     },
     "output_type": "display_data"
    }
   ],
   "source": [
    "sns.countplot(data=data_df,x=\"class\")"
   ]
  },
  {
   "cell_type": "markdown",
   "metadata": {
    "_uuid": "77eddeb05f44c47ee4a1be98bb22bb3cb0345030"
   },
   "source": [
    "Only **492** (or **0.172%**) of transaction are fraudulent. That means the data is highly unbalanced with respect with target variable **Class**."
   ]
  },
  {
   "cell_type": "markdown",
   "metadata": {
    "_uuid": "88fc9ad3d2dde75457f3b8c5417e07cbd9564a30"
   },
   "source": [
    "# <a id=\"5\">Data exploration</a>"
   ]
  },
  {
   "cell_type": "markdown",
   "metadata": {
    "_uuid": "c4393be5698f192c6839e8d372b453ed247d40d5"
   },
   "source": [
    "## Transactions amount"
   ]
  },
  {
   "cell_type": "markdown",
   "metadata": {
    "_uuid": "1f144ed18c23667fde41f190c060a8bd4990b7be"
   },
   "source": [
    "## Features correlation"
   ]
  },
  {
   "cell_type": "code",
   "execution_count": 14,
   "metadata": {
    "_uuid": "2a35594b8bf2ec37febec7570d4d3a25872b648b"
   },
   "outputs": [
    {
     "data": {
      "image/png": "[encoded data removed]",
      "text/plain": [
       "<Figure size 1008x1008 with 2 Axes>"
      ]
     },
     "metadata": {
      "needs_background": "light"
     },
     "output_type": "display_data"
    }
   ],
   "source": [
    "plt.figure(figsize = (14,14))\n",
    "plt.title('Credit Card Transactions features correlation plot (Pearson)')\n",
    "corr = data_df.corr()\n",
    "sns.heatmap(corr,xticklabels=corr.columns,yticklabels=corr.columns,linewidths=.1,cmap=\"Reds\")\n",
    "plt.show()"
   ]
  },
  {
   "cell_type": "markdown",
   "metadata": {
    "_uuid": "86636e53408b574ac5f7c84d73a5d8cff5c6e23f"
   },
   "source": [
    "# <a id=\"6\">Predictive models</a>  \n",
    "\n"
   ]
  },
  {
   "cell_type": "markdown",
   "metadata": {
    "_uuid": "3de9724f89804b1e82c2b30c9767bbc0be6ac0dc"
   },
   "source": [
    "### Define predictors and target values\n",
    "\n",
    "Let's define the predictor features and the target features. Categorical features, if any, are also defined. In our case, there are no categorical feature."
   ]
  },
  {
   "cell_type": "code",
   "execution_count": 24,
   "metadata": {
    "_uuid": "05466e1862ba4f872dc05faa4b4dc84430660639"
   },
   "outputs": [],
   "source": [
    "target = 'class'\n",
    "predictors = [\"signup_time-purchase_time\",\"purchase_value\",\"N[device_id]\"]"
   ]
  },
  {
   "cell_type": "markdown",
   "metadata": {
    "_uuid": "574f8a166087bc8e95f27a9b152ffc4c1f83c4ce"
   },
   "source": [
    "### Split data in train, test and validation set\n",
    "\n",
    "Let's define train, validation and test sets."
   ]
  },
  {
   "cell_type": "code",
   "execution_count": 25,
   "metadata": {
    "_uuid": "c27f7166f9a0d96a0a7135df30ae5201d5a2bb3a"
   },
   "outputs": [],
   "source": [
    "train_df, test_df = train_test_split(data_df, test_size=TEST_SIZE, random_state=RANDOM_STATE, shuffle=True )\n",
    "train_df, valid_df = train_test_split(train_df, test_size=VALID_SIZE, random_state=RANDOM_STATE, shuffle=True )"
   ]
  },
  {
   "cell_type": "markdown",
   "metadata": {
    "_uuid": "477275d990dc322046f8d16a0c0d6b942acaac4b"
   },
   "source": [
    "Let's start with a RandomForrestClassifier <a href='#8'>[3]</a>   model."
   ]
  },
  {
   "cell_type": "markdown",
   "metadata": {
    "_uuid": "046490acb18502c24c8197a4f2d1833f71ce7366"
   },
   "source": [
    "## <a id=\"61\">RandomForestClassifier</a>\n",
    "\n",
    "\n",
    "### Define model parameters\n",
    "\n",
    "Let's set the parameters for the model."
   ]
  },
  {
   "cell_type": "markdown",
   "metadata": {
    "_uuid": "13b7a22599e96474dbb275bc6658bcf87a92b774"
   },
   "source": [
    "Let's run a model using the training set for training. Then, we will use the validation set for validation. \n",
    "\n",
    "We will use as validation criterion **GINI**, which formula is **GINI = 2 * (AUC) - 1**, where **AUC** is the **Receiver Operating Characteristic - Area Under Curve (ROC-AUC)** <a href='#8'>[4]</a>.  Number of estimators is set to **100** and number of parallel jobs is set to **4**.\n",
    "\n",
    "We start by initializing the RandomForestClassifier."
   ]
  },
  {
   "cell_type": "code",
   "execution_count": 26,
   "metadata": {
    "_uuid": "88cfc485083044018748f977b8e9cb13bf91a4a8"
   },
   "outputs": [],
   "source": [
    "clf = RandomForestClassifier(n_jobs=NO_JOBS, \n",
    "                             random_state=RANDOM_STATE,\n",
    "                             criterion=RFC_METRIC,\n",
    "                             n_estimators=NUM_ESTIMATORS,\n",
    "                             verbose=False)"
   ]
  },
  {
   "cell_type": "markdown",
   "metadata": {
    "_uuid": "cfcf4074dfe96da0ac2489303ab3d7d8899f4175"
   },
   "source": [
    "Let's train the **RandonForestClassifier** using the **train_df** data and **fit** function."
   ]
  },
  {
   "cell_type": "code",
   "execution_count": 27,
   "metadata": {
    "_uuid": "5042efd869d672392cb81437a03719d07ae684f1"
   },
   "outputs": [
    {
     "data": {
      "text/plain": [
       "RandomForestClassifier(bootstrap=True, class_weight=None, criterion='gini',\n",
       "            max_depth=None, max_features='auto', max_leaf_nodes=None,\n",
       "            min_impurity_decrease=0.0, min_impurity_split=None,\n",
       "            min_samples_leaf=1, min_samples_split=2,\n",
       "            min_weight_fraction_leaf=0.0, n_estimators=100, n_jobs=4,\n",
       "            oob_score=False, random_state=2018, verbose=False,\n",
       "            warm_start=False)"
      ]
     },
     "execution_count": 27,
     "metadata": {},
     "output_type": "execute_result"
    }
   ],
   "source": [
    "clf.fit(train_df[predictors], train_df[target].values)"
   ]
  },
  {
   "cell_type": "markdown",
   "metadata": {
    "_uuid": "fa2d70ec9136bdf46339fb3ad408f1179015a214"
   },
   "source": [
    "Let's now predict the **target** values for the **valid_df** data, using **predict** function."
   ]
  },
  {
   "cell_type": "code",
   "execution_count": 28,
   "metadata": {
    "_uuid": "976e7e8d9adec49369b81c8a14e4e676e15709c9"
   },
   "outputs": [],
   "source": [
    "preds = clf.predict(valid_df[predictors])"
   ]
  },
  {
   "cell_type": "markdown",
   "metadata": {
    "_uuid": "c2e26b3c0dc5498196784292bb7c71337291fd15"
   },
   "source": [
    "Let's also visualize the features importance.\n",
    "\n",
    "### Features importance"
   ]
  },
  {
   "cell_type": "code",
   "execution_count": 29,
   "metadata": {
    "_uuid": "149ae586de1a7318f4063f2497d16b6457c5f478"
   },
   "outputs": [
    {
     "data": {
      "image/png": "[encoded data removed]",
      "text/plain": [
       "<Figure size 504x288 with 1 Axes>"
      ]
     },
     "metadata": {
      "needs_background": "light"
     },
     "output_type": "display_data"
    }
   ],
   "source": [
    "tmp = pd.DataFrame({'Feature': predictors, 'Feature importance': clf.feature_importances_})\n",
    "tmp = tmp.sort_values(by='Feature importance',ascending=False)\n",
    "plt.figure(figsize = (7,4))\n",
    "plt.title('Features importance',fontsize=14)\n",
    "s = sns.barplot(x='Feature',y='Feature importance',data=tmp)\n",
    "s.set_xticklabels(s.get_xticklabels(),rotation=90)\n",
    "plt.show()   \n"
   ]
  },
  {
   "cell_type": "markdown",
   "metadata": {
    "_uuid": "588e3a996a7108a4f1e66cda53d225e6e236bfd6"
   },
   "source": [
    "The most important features are **V17**, **V12**, **V14**, **V10**, **V11**, **V16**.\n",
    "\n",
    "\n",
    "### Confusion matrix\n",
    "\n",
    "Let's show a confusion matrix for the results we obtained. "
   ]
  },
  {
   "cell_type": "code",
   "execution_count": 30,
   "metadata": {
    "_uuid": "acdc37e14e96287ea2f96c4530bfde388d8af2f2"
   },
   "outputs": [
    {
     "data": {
      "image/png": "[encoded data removed]",
      "text/plain": [
       "<Figure size 360x360 with 2 Axes>"
      ]
     },
     "metadata": {
      "needs_background": "light"
     },
     "output_type": "display_data"
    }
   ],
   "source": [
    "cm = pd.crosstab(valid_df[target].values, preds, rownames=['Actual'], colnames=['Predicted'])\n",
    "fig, (ax1) = plt.subplots(ncols=1, figsize=(5,5))\n",
    "sns.heatmap(cm, \n",
    "            xticklabels=['Not Fraud', 'Fraud'],\n",
    "            yticklabels=['Not Fraud', 'Fraud'],\n",
    "            annot=True,ax=ax1,\n",
    "            linewidths=.2,linecolor=\"Darkblue\", cmap=\"Blues\")\n",
    "plt.title('Confusion Matrix', fontsize=14)\n",
    "plt.show()"
   ]
  },
  {
   "cell_type": "code",
   "execution_count": 31,
   "metadata": {
    "_uuid": "b67d0d3a695ccd69fba3b9ea576e7019d6091257"
   },
   "outputs": [
    {
     "data": {
      "text/plain": [
       "0.7669754390931317"
      ]
     },
     "execution_count": 31,
     "metadata": {},
     "output_type": "execute_result"
    }
   ],
   "source": [
    "roc_auc_score(valid_df[target].values, preds)"
   ]
  },
  {
   "cell_type": "markdown",
   "metadata": {
    "_uuid": "8b6d28b9ac4316545572d91b351f2c15bed671ba"
   },
   "source": [
    "The **ROC-AUC** score obtained with **RandomForrestClassifier** is **0.85**.\n",
    "\n",
    "\n",
    "\n"
   ]
  },
  {
   "cell_type": "markdown",
   "metadata": {
    "_uuid": "8e1fb8633dc75828f659b6d4d6b3e61d87379cb7"
   },
   "source": [
    "## <a id=\"62\">AdaBoostClassifier</a>\n",
    "\n",
    "\n",
    "AdaBoostClassifier stands for Adaptive Boosting Classifier <a href='#8'>[5]</a>.\n",
    "\n",
    "### Prepare the model\n",
    "\n",
    "Let's set the parameters for the model and initialize the model."
   ]
  },
  {
   "cell_type": "code",
   "execution_count": 32,
   "metadata": {
    "_uuid": "17c5211f4f1f5f4bb406ab17d45abdc5b46c087f"
   },
   "outputs": [],
   "source": [
    "clf = AdaBoostClassifier(random_state=RANDOM_STATE,\n",
    "                         algorithm='SAMME.R',\n",
    "                         learning_rate=0.8,\n",
    "                             n_estimators=NUM_ESTIMATORS)"
   ]
  },
  {
   "cell_type": "markdown",
   "metadata": {
    "_uuid": "24263fd86b09447c3c413bf438cb262823daf338"
   },
   "source": [
    "### Fit the model\n",
    "\n",
    "Let's fit the model."
   ]
  },
  {
   "cell_type": "code",
   "execution_count": 33,
   "metadata": {
    "_uuid": "1bdbe7616f0c2ab48932705e0a143c6a0a9b8049"
   },
   "outputs": [
    {
     "data": {
      "text/plain": [
       "AdaBoostClassifier(algorithm='SAMME.R', base_estimator=None,\n",
       "          learning_rate=0.8, n_estimators=100, random_state=2018)"
      ]
     },
     "execution_count": 33,
     "metadata": {},
     "output_type": "execute_result"
    }
   ],
   "source": [
    "clf.fit(train_df[predictors], train_df[target].values)"
   ]
  },
  {
   "cell_type": "markdown",
   "metadata": {
    "_uuid": "0678f70c1bce4a0aca24de10b2c7130a702a3823"
   },
   "source": [
    "### Predict the target values\n",
    "\n",
    "Let's now predict the **target** values for the **valid_df** data, using predict function."
   ]
  },
  {
   "cell_type": "code",
   "execution_count": 34,
   "metadata": {
    "_uuid": "77ddd7b77838e7b83d6a24fa6d6449ae0567b2bf"
   },
   "outputs": [],
   "source": [
    "preds = clf.predict(valid_df[predictors])"
   ]
  },
  {
   "cell_type": "markdown",
   "metadata": {
    "_uuid": "4eea5368cc69c6b499aa5c527d33f13ede9e31c0"
   },
   "source": [
    "### Features importance\n",
    "\n",
    "Let's see also the features importance."
   ]
  },
  {
   "cell_type": "code",
   "execution_count": 35,
   "metadata": {
    "_uuid": "2efbe2f5f9554fa96788ad1a619fe1943ee1e6df"
   },
   "outputs": [
    {
     "data": {
      "image/png": "[encoded data removed]",
      "text/plain": [
       "<Figure size 504x288 with 1 Axes>"
      ]
     },
     "metadata": {
      "needs_background": "light"
     },
     "output_type": "display_data"
    }
   ],
   "source": [
    "tmp = pd.DataFrame({'Feature': predictors, 'Feature importance': clf.feature_importances_})\n",
    "tmp = tmp.sort_values(by='Feature importance',ascending=False)\n",
    "plt.figure(figsize = (7,4))\n",
    "plt.title('Features importance',fontsize=14)\n",
    "s = sns.barplot(x='Feature',y='Feature importance',data=tmp)\n",
    "s.set_xticklabels(s.get_xticklabels(),rotation=90)\n",
    "plt.show()   "
   ]
  },
  {
   "cell_type": "markdown",
   "metadata": {
    "_uuid": "4e4a72f967d3e0d1e7051668178eb497555a16ca"
   },
   "source": [
    "### Confusion matrix\n",
    "\n",
    "Let's visualize the confusion matrix."
   ]
  },
  {
   "cell_type": "code",
   "execution_count": 36,
   "metadata": {
    "_uuid": "0adcb109549fc61381f8dcf6fd894b83f3a69809"
   },
   "outputs": [
    {
     "data": {
      "image/png": "[encoded data removed]",
      "text/plain": [
       "<Figure size 360x360 with 2 Axes>"
      ]
     },
     "metadata": {
      "needs_background": "light"
     },
     "output_type": "display_data"
    }
   ],
   "source": [
    "cm = pd.crosstab(valid_df[target].values, preds, rownames=['Actual'], colnames=['Predicted'])\n",
    "fig, (ax1) = plt.subplots(ncols=1, figsize=(5,5))\n",
    "sns.heatmap(cm, \n",
    "            xticklabels=['Not Fraud', 'Fraud'],\n",
    "            yticklabels=['Not Fraud', 'Fraud'],\n",
    "            annot=True,ax=ax1,\n",
    "            linewidths=.2,linecolor=\"Darkblue\", cmap=\"Blues\")\n",
    "plt.title('Confusion Matrix', fontsize=14)\n",
    "plt.show()"
   ]
  },
  {
   "cell_type": "markdown",
   "metadata": {
    "_uuid": "29a1e7c5d5b056fc59ef0c08f8a1091ee2f6fdff"
   },
   "source": [
    "Let's calculate also the ROC-AUC.\n",
    "\n",
    "\n",
    "### Area under curve"
   ]
  },
  {
   "cell_type": "code",
   "execution_count": 37,
   "metadata": {
    "_uuid": "f95a9ced1ff6ed2257f1e21c604a2ffcf769feed"
   },
   "outputs": [
    {
     "data": {
      "text/plain": [
       "0.7655141843971631"
      ]
     },
     "execution_count": 37,
     "metadata": {},
     "output_type": "execute_result"
    }
   ],
   "source": [
    "roc_auc_score(valid_df[target].values, preds)"
   ]
  },
  {
   "cell_type": "markdown",
   "metadata": {
    "_uuid": "525a893a4f511b3fd8909f3655c9a5c20afe585c"
   },
   "source": [
    "The ROC-AUC score obtained with AdaBoostClassifier is **0.83**."
   ]
  },
  {
   "cell_type": "markdown",
   "metadata": {
    "_uuid": "719e7673307eb938cbd22422c11165e6433da036"
   },
   "source": [
    "## <a id=\"63\">CatBoostClassifier</a>\n",
    "\n",
    "\n",
    "CatBoostClassifier is a gradient boosting for decision trees algorithm with support for handling categorical data <a href='#8'>[6]</a>.\n",
    "\n",
    "### Prepare the model\n",
    "\n",
    "Let's set the parameters for the model and initialize the model."
   ]
  },
  {
   "cell_type": "code",
   "execution_count": 40,
   "metadata": {
    "_uuid": "5a663cefd0b35e44bec74dda1e3ece37f430bc69"
   },
   "outputs": [],
   "source": [
    "clf = CatBoostClassifier(iterations=500,\n",
    "                             learning_rate=0.02,\n",
    "                             depth=12,\n",
    "                             eval_metric='AUC',\n",
    "                             random_seed = RANDOM_STATE,\n",
    "                             bagging_temperature = 0.2,\n",
    "                             od_type='Iter',\n",
    "                             \n",
    "                             od_wait=100)"
   ]
  },
  {
   "cell_type": "code",
   "execution_count": 41,
   "metadata": {
    "_uuid": "f571a8ac45728504d805e1b4b12e3e672a01d381"
   },
   "outputs": [
    {
     "name": "stdout",
     "output_type": "stream",
     "text": [
      "0:\ttotal: 313ms\tremaining: 2m 36s\n",
      "1:\ttotal: 679ms\tremaining: 2m 49s\n",
      "2:\ttotal: 1.97s\tremaining: 5m 26s\n",
      "3:\ttotal: 3.14s\tremaining: 6m 29s\n",
      "4:\ttotal: 4.29s\tremaining: 7m 5s\n",
      "5:\ttotal: 5.45s\tremaining: 7m 28s\n",
      "6:\ttotal: 6.59s\tremaining: 7m 44s\n",
      "7:\ttotal: 7.84s\tremaining: 8m 2s\n",
      "8:\ttotal: 7.95s\tremaining: 7m 13s\n",
      "9:\ttotal: 8.02s\tremaining: 6m 32s\n",
      "10:\ttotal: 9.17s\tremaining: 6m 47s\n",
      "11:\ttotal: 9.24s\tremaining: 6m 15s\n",
      "12:\ttotal: 10.4s\tremaining: 6m 28s\n",
      "13:\ttotal: 10.5s\tremaining: 6m 4s\n",
      "14:\ttotal: 11.6s\tremaining: 6m 15s\n",
      "15:\ttotal: 12s\tremaining: 6m 2s\n",
      "16:\ttotal: 12.2s\tremaining: 5m 46s\n",
      "17:\ttotal: 13.4s\tremaining: 5m 57s\n",
      "18:\ttotal: 13.4s\tremaining: 5m 40s\n",
      "19:\ttotal: 14.6s\tremaining: 5m 50s\n",
      "20:\ttotal: 15.7s\tremaining: 5m 58s\n",
      "21:\ttotal: 15.8s\tremaining: 5m 43s\n",
      "22:\ttotal: 16.9s\tremaining: 5m 51s\n",
      "23:\ttotal: 17s\tremaining: 5m 37s\n",
      "24:\ttotal: 18.1s\tremaining: 5m 44s\n",
      "25:\ttotal: 18.3s\tremaining: 5m 33s\n",
      "26:\ttotal: 19.8s\tremaining: 5m 46s\n",
      "27:\ttotal: 20s\tremaining: 5m 37s\n",
      "28:\ttotal: 21.1s\tremaining: 5m 42s\n",
      "29:\ttotal: 21.3s\tremaining: 5m 33s\n",
      "30:\ttotal: 21.5s\tremaining: 5m 25s\n",
      "31:\ttotal: 21.8s\tremaining: 5m 19s\n",
      "32:\ttotal: 22s\tremaining: 5m 11s\n",
      "33:\ttotal: 23.2s\tremaining: 5m 18s\n",
      "34:\ttotal: 24.4s\tremaining: 5m 24s\n",
      "35:\ttotal: 24.6s\tremaining: 5m 17s\n",
      "36:\ttotal: 25.9s\tremaining: 5m 23s\n",
      "37:\ttotal: 27.1s\tremaining: 5m 29s\n",
      "38:\ttotal: 28.4s\tremaining: 5m 35s\n",
      "39:\ttotal: 28.5s\tremaining: 5m 27s\n",
      "40:\ttotal: 28.7s\tremaining: 5m 21s\n",
      "41:\ttotal: 29.8s\tremaining: 5m 25s\n",
      "42:\ttotal: 31.4s\tremaining: 5m 33s\n",
      "43:\ttotal: 32.6s\tremaining: 5m 37s\n",
      "44:\ttotal: 32.6s\tremaining: 5m 29s\n",
      "45:\ttotal: 32.7s\tremaining: 5m 22s\n",
      "46:\ttotal: 32.9s\tremaining: 5m 17s\n",
      "47:\ttotal: 34s\tremaining: 5m 20s\n",
      "48:\ttotal: 34.1s\tremaining: 5m 14s\n",
      "49:\ttotal: 34.8s\tremaining: 5m 12s\n",
      "50:\ttotal: 35.9s\tremaining: 5m 15s\n",
      "51:\ttotal: 36.3s\tremaining: 5m 12s\n",
      "52:\ttotal: 37.6s\tremaining: 5m 17s\n",
      "53:\ttotal: 37.9s\tremaining: 5m 13s\n",
      "54:\ttotal: 38.3s\tremaining: 5m 9s\n",
      "55:\ttotal: 38.3s\tremaining: 5m 4s\n",
      "56:\ttotal: 39.5s\tremaining: 5m 6s\n",
      "57:\ttotal: 40.9s\tremaining: 5m 11s\n",
      "58:\ttotal: 41s\tremaining: 5m 6s\n",
      "59:\ttotal: 42.2s\tremaining: 5m 9s\n",
      "60:\ttotal: 43.5s\tremaining: 5m 13s\n",
      "61:\ttotal: 44.6s\tremaining: 5m 15s\n",
      "62:\ttotal: 44.7s\tremaining: 5m 10s\n",
      "63:\ttotal: 46.1s\tremaining: 5m 14s\n",
      "64:\ttotal: 46.3s\tremaining: 5m 10s\n",
      "65:\ttotal: 46.5s\tremaining: 5m 6s\n",
      "66:\ttotal: 46.7s\tremaining: 5m 1s\n",
      "67:\ttotal: 46.8s\tremaining: 4m 57s\n",
      "68:\ttotal: 46.9s\tremaining: 4m 52s\n",
      "69:\ttotal: 46.9s\tremaining: 4m 48s\n",
      "70:\ttotal: 48s\tremaining: 4m 50s\n",
      "71:\ttotal: 48.2s\tremaining: 4m 46s\n",
      "72:\ttotal: 49.5s\tremaining: 4m 49s\n",
      "73:\ttotal: 50.9s\tremaining: 4m 52s\n",
      "74:\ttotal: 52s\tremaining: 4m 54s\n",
      "75:\ttotal: 53.1s\tremaining: 4m 56s\n",
      "76:\ttotal: 53.5s\tremaining: 4m 53s\n",
      "77:\ttotal: 55.1s\tremaining: 4m 57s\n",
      "78:\ttotal: 55.2s\tremaining: 4m 53s\n",
      "79:\ttotal: 55.2s\tremaining: 4m 49s\n",
      "80:\ttotal: 55.6s\tremaining: 4m 47s\n",
      "81:\ttotal: 57s\tremaining: 4m 50s\n",
      "82:\ttotal: 57.5s\tremaining: 4m 48s\n",
      "83:\ttotal: 58.3s\tremaining: 4m 48s\n",
      "84:\ttotal: 58.6s\tremaining: 4m 45s\n",
      "85:\ttotal: 58.7s\tremaining: 4m 42s\n",
      "86:\ttotal: 58.9s\tremaining: 4m 39s\n",
      "87:\ttotal: 60s\tremaining: 4m 40s\n",
      "88:\ttotal: 1m 1s\tremaining: 4m 43s\n",
      "89:\ttotal: 1m 1s\tremaining: 4m 39s\n",
      "90:\ttotal: 1m 2s\tremaining: 4m 40s\n",
      "91:\ttotal: 1m 2s\tremaining: 4m 37s\n",
      "92:\ttotal: 1m 2s\tremaining: 4m 34s\n",
      "93:\ttotal: 1m 2s\tremaining: 4m 31s\n",
      "94:\ttotal: 1m 2s\tremaining: 4m 28s\n",
      "95:\ttotal: 1m 2s\tremaining: 4m 24s\n",
      "96:\ttotal: 1m 3s\tremaining: 4m 21s\n",
      "97:\ttotal: 1m 3s\tremaining: 4m 18s\n",
      "98:\ttotal: 1m 3s\tremaining: 4m 16s\n",
      "99:\ttotal: 1m 4s\tremaining: 4m 18s\n",
      "100:\ttotal: 1m 4s\tremaining: 4m 15s\n",
      "101:\ttotal: 1m 4s\tremaining: 4m 12s\n",
      "102:\ttotal: 1m 5s\tremaining: 4m 10s\n",
      "103:\ttotal: 1m 5s\tremaining: 4m 7s\n",
      "104:\ttotal: 1m 6s\tremaining: 4m 8s\n",
      "105:\ttotal: 1m 6s\tremaining: 4m 7s\n",
      "106:\ttotal: 1m 7s\tremaining: 4m 7s\n",
      "107:\ttotal: 1m 8s\tremaining: 4m 9s\n",
      "108:\ttotal: 1m 8s\tremaining: 4m 6s\n",
      "109:\ttotal: 1m 8s\tremaining: 4m 3s\n",
      "110:\ttotal: 1m 8s\tremaining: 4m 1s\n",
      "111:\ttotal: 1m 8s\tremaining: 3m 58s\n",
      "112:\ttotal: 1m 10s\tremaining: 4m\n",
      "113:\ttotal: 1m 10s\tremaining: 3m 57s\n",
      "114:\ttotal: 1m 10s\tremaining: 3m 55s\n",
      "115:\ttotal: 1m 11s\tremaining: 3m 57s\n",
      "116:\ttotal: 1m 11s\tremaining: 3m 55s\n",
      "117:\ttotal: 1m 11s\tremaining: 3m 53s\n",
      "118:\ttotal: 1m 12s\tremaining: 3m 51s\n",
      "119:\ttotal: 1m 12s\tremaining: 3m 49s\n",
      "120:\ttotal: 1m 13s\tremaining: 3m 49s\n",
      "121:\ttotal: 1m 13s\tremaining: 3m 47s\n",
      "122:\ttotal: 1m 13s\tremaining: 3m 46s\n",
      "123:\ttotal: 1m 15s\tremaining: 3m 48s\n",
      "124:\ttotal: 1m 15s\tremaining: 3m 46s\n",
      "125:\ttotal: 1m 16s\tremaining: 3m 48s\n",
      "126:\ttotal: 1m 17s\tremaining: 3m 46s\n",
      "127:\ttotal: 1m 18s\tremaining: 3m 48s\n",
      "128:\ttotal: 1m 19s\tremaining: 3m 49s\n",
      "129:\ttotal: 1m 20s\tremaining: 3m 50s\n",
      "130:\ttotal: 1m 20s\tremaining: 3m 48s\n",
      "131:\ttotal: 1m 22s\tremaining: 3m 48s\n",
      "132:\ttotal: 1m 22s\tremaining: 3m 47s\n",
      "133:\ttotal: 1m 22s\tremaining: 3m 45s\n",
      "134:\ttotal: 1m 22s\tremaining: 3m 43s\n",
      "135:\ttotal: 1m 22s\tremaining: 3m 41s\n",
      "136:\ttotal: 1m 23s\tremaining: 3m 40s\n",
      "137:\ttotal: 1m 23s\tremaining: 3m 38s\n",
      "138:\ttotal: 1m 24s\tremaining: 3m 39s\n",
      "139:\ttotal: 1m 25s\tremaining: 3m 40s\n",
      "140:\ttotal: 1m 26s\tremaining: 3m 39s\n",
      "141:\ttotal: 1m 27s\tremaining: 3m 40s\n",
      "142:\ttotal: 1m 27s\tremaining: 3m 39s\n",
      "143:\ttotal: 1m 27s\tremaining: 3m 37s\n",
      "144:\ttotal: 1m 27s\tremaining: 3m 35s\n",
      "145:\ttotal: 1m 29s\tremaining: 3m 35s\n",
      "146:\ttotal: 1m 30s\tremaining: 3m 36s\n",
      "147:\ttotal: 1m 31s\tremaining: 3m 37s\n",
      "148:\ttotal: 1m 31s\tremaining: 3m 35s\n",
      "149:\ttotal: 1m 32s\tremaining: 3m 36s\n",
      "150:\ttotal: 1m 32s\tremaining: 3m 34s\n",
      "151:\ttotal: 1m 34s\tremaining: 3m 35s\n",
      "152:\ttotal: 1m 34s\tremaining: 3m 33s\n",
      "153:\ttotal: 1m 34s\tremaining: 3m 32s\n",
      "154:\ttotal: 1m 34s\tremaining: 3m 30s\n",
      "155:\ttotal: 1m 34s\tremaining: 3m 29s\n",
      "156:\ttotal: 1m 36s\tremaining: 3m 30s\n",
      "157:\ttotal: 1m 36s\tremaining: 3m 28s\n",
      "158:\ttotal: 1m 36s\tremaining: 3m 27s\n",
      "159:\ttotal: 1m 37s\tremaining: 3m 27s\n",
      "160:\ttotal: 1m 37s\tremaining: 3m 26s\n",
      "161:\ttotal: 1m 39s\tremaining: 3m 26s\n",
      "162:\ttotal: 1m 40s\tremaining: 3m 27s\n",
      "163:\ttotal: 1m 40s\tremaining: 3m 25s\n",
      "164:\ttotal: 1m 40s\tremaining: 3m 25s\n",
      "165:\ttotal: 1m 41s\tremaining: 3m 23s\n",
      "166:\ttotal: 1m 42s\tremaining: 3m 23s\n",
      "167:\ttotal: 1m 42s\tremaining: 3m 22s\n",
      "168:\ttotal: 1m 43s\tremaining: 3m 22s\n",
      "169:\ttotal: 1m 43s\tremaining: 3m 21s\n",
      "170:\ttotal: 1m 44s\tremaining: 3m 20s\n",
      "171:\ttotal: 1m 45s\tremaining: 3m 20s\n",
      "172:\ttotal: 1m 45s\tremaining: 3m 19s\n",
      "173:\ttotal: 1m 46s\tremaining: 3m 20s\n",
      "174:\ttotal: 1m 47s\tremaining: 3m 20s\n",
      "175:\ttotal: 1m 49s\tremaining: 3m 21s\n",
      "176:\ttotal: 1m 49s\tremaining: 3m 19s\n",
      "177:\ttotal: 1m 49s\tremaining: 3m 18s\n",
      "178:\ttotal: 1m 50s\tremaining: 3m 18s\n",
      "179:\ttotal: 1m 50s\tremaining: 3m 16s\n",
      "180:\ttotal: 1m 50s\tremaining: 3m 15s\n",
      "181:\ttotal: 1m 51s\tremaining: 3m 15s\n",
      "182:\ttotal: 1m 52s\tremaining: 3m 14s\n",
      "183:\ttotal: 1m 53s\tremaining: 3m 14s\n",
      "184:\ttotal: 1m 53s\tremaining: 3m 13s\n",
      "185:\ttotal: 1m 53s\tremaining: 3m 12s\n",
      "186:\ttotal: 1m 54s\tremaining: 3m 12s\n",
      "187:\ttotal: 1m 55s\tremaining: 3m 10s\n",
      "188:\ttotal: 1m 55s\tremaining: 3m 9s\n",
      "189:\ttotal: 1m 56s\tremaining: 3m 9s\n",
      "190:\ttotal: 1m 56s\tremaining: 3m 8s\n",
      "191:\ttotal: 1m 56s\tremaining: 3m 6s\n",
      "192:\ttotal: 1m 57s\tremaining: 3m 7s\n",
      "193:\ttotal: 1m 57s\tremaining: 3m 5s\n",
      "194:\ttotal: 1m 57s\tremaining: 3m 4s\n",
      "195:\ttotal: 1m 58s\tremaining: 3m 3s\n",
      "196:\ttotal: 1m 58s\tremaining: 3m 1s\n",
      "197:\ttotal: 1m 58s\tremaining: 3m\n",
      "198:\ttotal: 1m 58s\tremaining: 2m 58s\n",
      "199:\ttotal: 1m 58s\tremaining: 2m 57s\n",
      "200:\ttotal: 1m 58s\tremaining: 2m 56s\n",
      "201:\ttotal: 1m 59s\tremaining: 2m 56s\n",
      "202:\ttotal: 2m\tremaining: 2m 55s\n",
      "203:\ttotal: 2m\tremaining: 2m 54s\n",
      "204:\ttotal: 2m\tremaining: 2m 53s\n",
      "205:\ttotal: 2m\tremaining: 2m 52s\n",
      "206:\ttotal: 2m\tremaining: 2m 51s\n",
      "207:\ttotal: 2m\tremaining: 2m 49s\n",
      "208:\ttotal: 2m 2s\tremaining: 2m 50s\n",
      "209:\ttotal: 2m 2s\tremaining: 2m 49s\n",
      "210:\ttotal: 2m 2s\tremaining: 2m 47s\n",
      "211:\ttotal: 2m 2s\tremaining: 2m 46s\n",
      "212:\ttotal: 2m 3s\tremaining: 2m 45s\n",
      "213:\ttotal: 2m 3s\tremaining: 2m 44s\n",
      "214:\ttotal: 2m 3s\tremaining: 2m 43s\n",
      "215:\ttotal: 2m 3s\tremaining: 2m 42s\n",
      "216:\ttotal: 2m 3s\tremaining: 2m 41s\n",
      "217:\ttotal: 2m 3s\tremaining: 2m 40s\n",
      "218:\ttotal: 2m 3s\tremaining: 2m 39s\n",
      "219:\ttotal: 2m 4s\tremaining: 2m 37s\n",
      "220:\ttotal: 2m 4s\tremaining: 2m 36s\n",
      "221:\ttotal: 2m 4s\tremaining: 2m 35s\n",
      "222:\ttotal: 2m 4s\tremaining: 2m 34s\n",
      "223:\ttotal: 2m 4s\tremaining: 2m 33s\n",
      "224:\ttotal: 2m 4s\tremaining: 2m 32s\n",
      "225:\ttotal: 2m 5s\tremaining: 2m 31s\n",
      "226:\ttotal: 2m 5s\tremaining: 2m 30s\n",
      "227:\ttotal: 2m 5s\tremaining: 2m 29s\n",
      "228:\ttotal: 2m 5s\tremaining: 2m 28s\n",
      "229:\ttotal: 2m 5s\tremaining: 2m 27s\n",
      "230:\ttotal: 2m 5s\tremaining: 2m 26s\n",
      "231:\ttotal: 2m 5s\tremaining: 2m 25s\n"
     ]
    },
    {
     "name": "stdout",
     "output_type": "stream",
     "text": [
      "232:\ttotal: 2m 5s\tremaining: 2m 24s\n",
      "233:\ttotal: 2m 7s\tremaining: 2m 24s\n",
      "234:\ttotal: 2m 7s\tremaining: 2m 23s\n",
      "235:\ttotal: 2m 7s\tremaining: 2m 22s\n",
      "236:\ttotal: 2m 8s\tremaining: 2m 22s\n",
      "237:\ttotal: 2m 9s\tremaining: 2m 22s\n",
      "238:\ttotal: 2m 9s\tremaining: 2m 21s\n",
      "239:\ttotal: 2m 9s\tremaining: 2m 20s\n",
      "240:\ttotal: 2m 10s\tremaining: 2m 20s\n",
      "241:\ttotal: 2m 11s\tremaining: 2m 20s\n",
      "242:\ttotal: 2m 11s\tremaining: 2m 19s\n",
      "243:\ttotal: 2m 11s\tremaining: 2m 18s\n",
      "244:\ttotal: 2m 11s\tremaining: 2m 17s\n",
      "245:\ttotal: 2m 11s\tremaining: 2m 16s\n",
      "246:\ttotal: 2m 12s\tremaining: 2m 15s\n",
      "247:\ttotal: 2m 12s\tremaining: 2m 14s\n",
      "248:\ttotal: 2m 12s\tremaining: 2m 13s\n",
      "249:\ttotal: 2m 12s\tremaining: 2m 12s\n",
      "250:\ttotal: 2m 13s\tremaining: 2m 12s\n",
      "251:\ttotal: 2m 13s\tremaining: 2m 11s\n",
      "252:\ttotal: 2m 13s\tremaining: 2m 10s\n",
      "253:\ttotal: 2m 13s\tremaining: 2m 9s\n",
      "254:\ttotal: 2m 13s\tremaining: 2m 8s\n",
      "255:\ttotal: 2m 13s\tremaining: 2m 7s\n",
      "256:\ttotal: 2m 14s\tremaining: 2m 7s\n",
      "257:\ttotal: 2m 15s\tremaining: 2m 6s\n",
      "258:\ttotal: 2m 16s\tremaining: 2m 6s\n",
      "259:\ttotal: 2m 16s\tremaining: 2m 6s\n",
      "260:\ttotal: 2m 17s\tremaining: 2m 6s\n",
      "261:\ttotal: 2m 18s\tremaining: 2m 5s\n",
      "262:\ttotal: 2m 18s\tremaining: 2m 4s\n",
      "263:\ttotal: 2m 18s\tremaining: 2m 3s\n",
      "264:\ttotal: 2m 19s\tremaining: 2m 3s\n",
      "265:\ttotal: 2m 21s\tremaining: 2m 4s\n",
      "266:\ttotal: 2m 22s\tremaining: 2m 4s\n",
      "267:\ttotal: 2m 22s\tremaining: 2m 3s\n",
      "268:\ttotal: 2m 22s\tremaining: 2m 2s\n",
      "269:\ttotal: 2m 22s\tremaining: 2m 1s\n",
      "270:\ttotal: 2m 23s\tremaining: 2m 1s\n",
      "271:\ttotal: 2m 24s\tremaining: 2m\n",
      "272:\ttotal: 2m 24s\tremaining: 2m\n",
      "273:\ttotal: 2m 25s\tremaining: 2m\n",
      "274:\ttotal: 2m 25s\tremaining: 1m 59s\n",
      "275:\ttotal: 2m 25s\tremaining: 1m 58s\n",
      "276:\ttotal: 2m 26s\tremaining: 1m 57s\n",
      "277:\ttotal: 2m 26s\tremaining: 1m 56s\n",
      "278:\ttotal: 2m 26s\tremaining: 1m 56s\n",
      "279:\ttotal: 2m 26s\tremaining: 1m 55s\n",
      "280:\ttotal: 2m 27s\tremaining: 1m 54s\n",
      "281:\ttotal: 2m 27s\tremaining: 1m 53s\n",
      "282:\ttotal: 2m 27s\tremaining: 1m 52s\n",
      "283:\ttotal: 2m 27s\tremaining: 1m 52s\n",
      "284:\ttotal: 2m 27s\tremaining: 1m 51s\n",
      "285:\ttotal: 2m 27s\tremaining: 1m 50s\n",
      "286:\ttotal: 2m 28s\tremaining: 1m 50s\n",
      "287:\ttotal: 2m 28s\tremaining: 1m 49s\n",
      "288:\ttotal: 2m 28s\tremaining: 1m 48s\n",
      "289:\ttotal: 2m 28s\tremaining: 1m 47s\n",
      "290:\ttotal: 2m 28s\tremaining: 1m 46s\n",
      "291:\ttotal: 2m 28s\tremaining: 1m 46s\n",
      "292:\ttotal: 2m 29s\tremaining: 1m 45s\n",
      "293:\ttotal: 2m 30s\tremaining: 1m 45s\n",
      "294:\ttotal: 2m 30s\tremaining: 1m 44s\n",
      "295:\ttotal: 2m 30s\tremaining: 1m 43s\n",
      "296:\ttotal: 2m 31s\tremaining: 1m 43s\n",
      "297:\ttotal: 2m 31s\tremaining: 1m 42s\n",
      "298:\ttotal: 2m 32s\tremaining: 1m 42s\n",
      "299:\ttotal: 2m 32s\tremaining: 1m 41s\n",
      "300:\ttotal: 2m 32s\tremaining: 1m 40s\n",
      "301:\ttotal: 2m 32s\tremaining: 1m 40s\n",
      "302:\ttotal: 2m 33s\tremaining: 1m 39s\n",
      "303:\ttotal: 2m 33s\tremaining: 1m 39s\n",
      "304:\ttotal: 2m 33s\tremaining: 1m 38s\n",
      "305:\ttotal: 2m 35s\tremaining: 1m 38s\n",
      "306:\ttotal: 2m 35s\tremaining: 1m 37s\n",
      "307:\ttotal: 2m 35s\tremaining: 1m 36s\n",
      "308:\ttotal: 2m 36s\tremaining: 1m 36s\n",
      "309:\ttotal: 2m 36s\tremaining: 1m 35s\n",
      "310:\ttotal: 2m 37s\tremaining: 1m 35s\n",
      "311:\ttotal: 2m 38s\tremaining: 1m 35s\n",
      "312:\ttotal: 2m 38s\tremaining: 1m 34s\n",
      "313:\ttotal: 2m 38s\tremaining: 1m 34s\n",
      "314:\ttotal: 2m 40s\tremaining: 1m 34s\n",
      "315:\ttotal: 2m 40s\tremaining: 1m 33s\n",
      "316:\ttotal: 2m 41s\tremaining: 1m 33s\n",
      "317:\ttotal: 2m 41s\tremaining: 1m 32s\n",
      "318:\ttotal: 2m 41s\tremaining: 1m 31s\n",
      "319:\ttotal: 2m 41s\tremaining: 1m 30s\n",
      "320:\ttotal: 2m 42s\tremaining: 1m 30s\n",
      "321:\ttotal: 2m 43s\tremaining: 1m 30s\n",
      "322:\ttotal: 2m 43s\tremaining: 1m 29s\n",
      "323:\ttotal: 2m 43s\tremaining: 1m 28s\n",
      "324:\ttotal: 2m 44s\tremaining: 1m 28s\n",
      "325:\ttotal: 2m 45s\tremaining: 1m 28s\n",
      "326:\ttotal: 2m 45s\tremaining: 1m 27s\n",
      "327:\ttotal: 2m 47s\tremaining: 1m 27s\n",
      "328:\ttotal: 2m 47s\tremaining: 1m 27s\n",
      "329:\ttotal: 2m 47s\tremaining: 1m 26s\n",
      "330:\ttotal: 2m 47s\tremaining: 1m 25s\n",
      "331:\ttotal: 2m 47s\tremaining: 1m 24s\n",
      "332:\ttotal: 2m 49s\tremaining: 1m 24s\n",
      "333:\ttotal: 2m 49s\tremaining: 1m 24s\n",
      "334:\ttotal: 2m 49s\tremaining: 1m 23s\n",
      "335:\ttotal: 2m 49s\tremaining: 1m 22s\n",
      "336:\ttotal: 2m 50s\tremaining: 1m 22s\n",
      "337:\ttotal: 2m 50s\tremaining: 1m 21s\n",
      "338:\ttotal: 2m 51s\tremaining: 1m 21s\n",
      "339:\ttotal: 2m 51s\tremaining: 1m 20s\n",
      "340:\ttotal: 2m 51s\tremaining: 1m 20s\n",
      "341:\ttotal: 2m 52s\tremaining: 1m 19s\n",
      "342:\ttotal: 2m 54s\tremaining: 1m 19s\n",
      "343:\ttotal: 2m 55s\tremaining: 1m 19s\n",
      "344:\ttotal: 2m 55s\tremaining: 1m 18s\n",
      "345:\ttotal: 2m 56s\tremaining: 1m 18s\n",
      "346:\ttotal: 2m 56s\tremaining: 1m 18s\n",
      "347:\ttotal: 2m 58s\tremaining: 1m 17s\n",
      "348:\ttotal: 2m 59s\tremaining: 1m 17s\n",
      "349:\ttotal: 2m 59s\tremaining: 1m 17s\n",
      "350:\ttotal: 3m 1s\tremaining: 1m 16s\n",
      "351:\ttotal: 3m 1s\tremaining: 1m 16s\n",
      "352:\ttotal: 3m 1s\tremaining: 1m 15s\n",
      "353:\ttotal: 3m 1s\tremaining: 1m 14s\n",
      "354:\ttotal: 3m 1s\tremaining: 1m 14s\n",
      "355:\ttotal: 3m 1s\tremaining: 1m 13s\n",
      "356:\ttotal: 3m 2s\tremaining: 1m 13s\n",
      "357:\ttotal: 3m 3s\tremaining: 1m 12s\n",
      "358:\ttotal: 3m 4s\tremaining: 1m 12s\n",
      "359:\ttotal: 3m 4s\tremaining: 1m 11s\n",
      "360:\ttotal: 3m 4s\tremaining: 1m 11s\n",
      "361:\ttotal: 3m 4s\tremaining: 1m 10s\n",
      "362:\ttotal: 3m 4s\tremaining: 1m 9s\n",
      "363:\ttotal: 3m 5s\tremaining: 1m 9s\n",
      "364:\ttotal: 3m 6s\tremaining: 1m 8s\n",
      "365:\ttotal: 3m 7s\tremaining: 1m 8s\n",
      "366:\ttotal: 3m 7s\tremaining: 1m 7s\n",
      "367:\ttotal: 3m 7s\tremaining: 1m 7s\n",
      "368:\ttotal: 3m 8s\tremaining: 1m 7s\n",
      "369:\ttotal: 3m 8s\tremaining: 1m 6s\n",
      "370:\ttotal: 3m 9s\tremaining: 1m 5s\n",
      "371:\ttotal: 3m 10s\tremaining: 1m 5s\n",
      "372:\ttotal: 3m 10s\tremaining: 1m 4s\n",
      "373:\ttotal: 3m 10s\tremaining: 1m 4s\n",
      "374:\ttotal: 3m 10s\tremaining: 1m 3s\n",
      "375:\ttotal: 3m 10s\tremaining: 1m 2s\n",
      "376:\ttotal: 3m 10s\tremaining: 1m 2s\n",
      "377:\ttotal: 3m 11s\tremaining: 1m 1s\n",
      "378:\ttotal: 3m 12s\tremaining: 1m 1s\n",
      "379:\ttotal: 3m 13s\tremaining: 1m 1s\n",
      "380:\ttotal: 3m 13s\tremaining: 1m\n",
      "381:\ttotal: 3m 14s\tremaining: 1m\n",
      "382:\ttotal: 3m 14s\tremaining: 59.4s\n",
      "383:\ttotal: 3m 14s\tremaining: 58.7s\n",
      "384:\ttotal: 3m 14s\tremaining: 58.1s\n",
      "385:\ttotal: 3m 14s\tremaining: 57.4s\n",
      "386:\ttotal: 3m 14s\tremaining: 56.8s\n",
      "387:\ttotal: 3m 15s\tremaining: 56.4s\n",
      "388:\ttotal: 3m 16s\tremaining: 56s\n",
      "389:\ttotal: 3m 16s\tremaining: 55.4s\n",
      "390:\ttotal: 3m 16s\tremaining: 54.8s\n",
      "391:\ttotal: 3m 17s\tremaining: 54.4s\n",
      "392:\ttotal: 3m 17s\tremaining: 53.8s\n",
      "393:\ttotal: 3m 17s\tremaining: 53.2s\n",
      "394:\ttotal: 3m 17s\tremaining: 52.6s\n",
      "395:\ttotal: 3m 19s\tremaining: 52.4s\n",
      "396:\ttotal: 3m 19s\tremaining: 51.8s\n",
      "397:\ttotal: 3m 19s\tremaining: 51.2s\n",
      "398:\ttotal: 3m 20s\tremaining: 50.7s\n",
      "399:\ttotal: 3m 20s\tremaining: 50.1s\n",
      "400:\ttotal: 3m 20s\tremaining: 49.5s\n",
      "401:\ttotal: 3m 20s\tremaining: 48.9s\n",
      "402:\ttotal: 3m 20s\tremaining: 48.3s\n",
      "403:\ttotal: 3m 20s\tremaining: 47.7s\n",
      "404:\ttotal: 3m 20s\tremaining: 47.1s\n",
      "405:\ttotal: 3m 22s\tremaining: 46.8s\n",
      "406:\ttotal: 3m 22s\tremaining: 46.3s\n",
      "407:\ttotal: 3m 22s\tremaining: 45.7s\n",
      "408:\ttotal: 3m 22s\tremaining: 45.1s\n",
      "409:\ttotal: 3m 24s\tremaining: 44.8s\n",
      "410:\ttotal: 3m 25s\tremaining: 44.4s\n",
      "411:\ttotal: 3m 25s\tremaining: 43.8s\n",
      "412:\ttotal: 3m 25s\tremaining: 43.2s\n",
      "413:\ttotal: 3m 26s\tremaining: 43s\n",
      "414:\ttotal: 3m 28s\tremaining: 42.7s\n",
      "415:\ttotal: 3m 28s\tremaining: 42.1s\n",
      "416:\ttotal: 3m 28s\tremaining: 41.5s\n",
      "417:\ttotal: 3m 28s\tremaining: 40.9s\n",
      "418:\ttotal: 3m 28s\tremaining: 40.4s\n",
      "419:\ttotal: 3m 29s\tremaining: 39.8s\n",
      "420:\ttotal: 3m 29s\tremaining: 39.3s\n",
      "421:\ttotal: 3m 29s\tremaining: 38.7s\n",
      "422:\ttotal: 3m 29s\tremaining: 38.1s\n",
      "423:\ttotal: 3m 29s\tremaining: 37.6s\n",
      "424:\ttotal: 3m 31s\tremaining: 37.3s\n",
      "425:\ttotal: 3m 32s\tremaining: 36.9s\n",
      "426:\ttotal: 3m 33s\tremaining: 36.5s\n",
      "427:\ttotal: 3m 34s\tremaining: 36s\n",
      "428:\ttotal: 3m 34s\tremaining: 35.5s\n",
      "429:\ttotal: 3m 34s\tremaining: 34.9s\n",
      "430:\ttotal: 3m 34s\tremaining: 34.3s\n",
      "431:\ttotal: 3m 36s\tremaining: 34.1s\n",
      "432:\ttotal: 3m 36s\tremaining: 33.5s\n",
      "433:\ttotal: 3m 37s\tremaining: 33.1s\n",
      "434:\ttotal: 3m 39s\tremaining: 32.7s\n",
      "435:\ttotal: 3m 39s\tremaining: 32.2s\n",
      "436:\ttotal: 3m 39s\tremaining: 31.6s\n",
      "437:\ttotal: 3m 40s\tremaining: 31.1s\n",
      "438:\ttotal: 3m 42s\tremaining: 30.9s\n",
      "439:\ttotal: 3m 42s\tremaining: 30.4s\n",
      "440:\ttotal: 3m 43s\tremaining: 29.9s\n",
      "441:\ttotal: 3m 43s\tremaining: 29.4s\n",
      "442:\ttotal: 3m 44s\tremaining: 28.9s\n",
      "443:\ttotal: 3m 46s\tremaining: 28.5s\n",
      "444:\ttotal: 3m 46s\tremaining: 28s\n",
      "445:\ttotal: 3m 46s\tremaining: 27.4s\n",
      "446:\ttotal: 3m 46s\tremaining: 26.8s\n",
      "447:\ttotal: 3m 46s\tremaining: 26.3s\n",
      "448:\ttotal: 3m 47s\tremaining: 25.8s\n",
      "449:\ttotal: 3m 48s\tremaining: 25.4s\n",
      "450:\ttotal: 3m 48s\tremaining: 24.9s\n",
      "451:\ttotal: 3m 50s\tremaining: 24.5s\n",
      "452:\ttotal: 3m 50s\tremaining: 23.9s\n",
      "453:\ttotal: 3m 50s\tremaining: 23.4s\n",
      "454:\ttotal: 3m 50s\tremaining: 22.8s\n",
      "455:\ttotal: 3m 51s\tremaining: 22.4s\n",
      "456:\ttotal: 3m 51s\tremaining: 21.8s\n",
      "457:\ttotal: 3m 52s\tremaining: 21.3s\n"
     ]
    },
    {
     "name": "stdout",
     "output_type": "stream",
     "text": [
      "458:\ttotal: 3m 52s\tremaining: 20.7s\n",
      "459:\ttotal: 3m 52s\tremaining: 20.2s\n",
      "460:\ttotal: 3m 52s\tremaining: 19.7s\n",
      "461:\ttotal: 3m 52s\tremaining: 19.1s\n",
      "462:\ttotal: 3m 52s\tremaining: 18.6s\n",
      "463:\ttotal: 3m 52s\tremaining: 18.1s\n",
      "464:\ttotal: 3m 52s\tremaining: 17.5s\n",
      "465:\ttotal: 3m 54s\tremaining: 17.1s\n",
      "466:\ttotal: 3m 54s\tremaining: 16.6s\n",
      "467:\ttotal: 3m 54s\tremaining: 16.1s\n",
      "468:\ttotal: 3m 56s\tremaining: 15.6s\n",
      "469:\ttotal: 3m 56s\tremaining: 15.1s\n",
      "470:\ttotal: 3m 56s\tremaining: 14.5s\n",
      "471:\ttotal: 3m 56s\tremaining: 14s\n",
      "472:\ttotal: 3m 56s\tremaining: 13.5s\n",
      "473:\ttotal: 3m 56s\tremaining: 13s\n",
      "474:\ttotal: 3m 56s\tremaining: 12.4s\n",
      "475:\ttotal: 3m 56s\tremaining: 11.9s\n",
      "476:\ttotal: 3m 57s\tremaining: 11.5s\n",
      "477:\ttotal: 3m 57s\tremaining: 10.9s\n",
      "478:\ttotal: 3m 58s\tremaining: 10.4s\n",
      "479:\ttotal: 3m 58s\tremaining: 9.95s\n",
      "480:\ttotal: 3m 58s\tremaining: 9.43s\n",
      "481:\ttotal: 3m 58s\tremaining: 8.92s\n",
      "482:\ttotal: 4m\tremaining: 8.45s\n",
      "483:\ttotal: 4m\tremaining: 7.95s\n",
      "484:\ttotal: 4m\tremaining: 7.44s\n",
      "485:\ttotal: 4m\tremaining: 6.93s\n",
      "486:\ttotal: 4m 2s\tremaining: 6.46s\n",
      "487:\ttotal: 4m 2s\tremaining: 5.96s\n",
      "488:\ttotal: 4m 2s\tremaining: 5.45s\n",
      "489:\ttotal: 4m 2s\tremaining: 4.95s\n",
      "490:\ttotal: 4m 4s\tremaining: 4.47s\n",
      "491:\ttotal: 4m 4s\tremaining: 3.97s\n",
      "492:\ttotal: 4m 4s\tremaining: 3.47s\n",
      "493:\ttotal: 4m 4s\tremaining: 2.97s\n",
      "494:\ttotal: 4m 4s\tremaining: 2.47s\n",
      "495:\ttotal: 4m 5s\tremaining: 1.98s\n",
      "496:\ttotal: 4m 5s\tremaining: 1.48s\n",
      "497:\ttotal: 4m 5s\tremaining: 987ms\n",
      "498:\ttotal: 4m 6s\tremaining: 493ms\n",
      "499:\ttotal: 4m 6s\tremaining: 0us\n"
     ]
    },
    {
     "data": {
      "text/plain": [
       "<catboost.core.CatBoostClassifier at 0x1c2b0fbba8>"
      ]
     },
     "execution_count": 41,
     "metadata": {},
     "output_type": "execute_result"
    }
   ],
   "source": [
    "clf.fit(train_df[predictors], train_df[target].values,verbose=True)"
   ]
  },
  {
   "cell_type": "markdown",
   "metadata": {
    "_uuid": "7fb5dfcb26fbdffb6e4526cf24bbd9a20ea2b0cf"
   },
   "source": [
    "### Predict the target values\n",
    "\n",
    "Let's now predict the **target** values for the **val_df** data, using predict function."
   ]
  },
  {
   "cell_type": "code",
   "execution_count": 42,
   "metadata": {
    "_uuid": "5b1c1fbaf25f4d16c6fc3ddcf3a25a16181fea3b"
   },
   "outputs": [],
   "source": [
    "preds = clf.predict(valid_df[predictors])"
   ]
  },
  {
   "cell_type": "markdown",
   "metadata": {
    "_uuid": "f4d5e197719c2caa46451c804d616e8fd6a0d6fb"
   },
   "source": [
    "### Features importance\n",
    "\n",
    "Let's see also the features importance."
   ]
  },
  {
   "cell_type": "code",
   "execution_count": 43,
   "metadata": {
    "_uuid": "afeee803fd3273651754c68619a00250e1cd524d"
   },
   "outputs": [
    {
     "data": {
      "image/png": "[encoded data removed]",
      "text/plain": [
       "<Figure size 504x288 with 1 Axes>"
      ]
     },
     "metadata": {
      "needs_background": "light"
     },
     "output_type": "display_data"
    }
   ],
   "source": [
    "tmp = pd.DataFrame({'Feature': predictors, 'Feature importance': clf.feature_importances_})\n",
    "tmp = tmp.sort_values(by='Feature importance',ascending=False)\n",
    "plt.figure(figsize = (7,4))\n",
    "plt.title('Features importance',fontsize=14)\n",
    "s = sns.barplot(x='Feature',y='Feature importance',data=tmp)\n",
    "s.set_xticklabels(s.get_xticklabels(),rotation=90)\n",
    "plt.show()   "
   ]
  },
  {
   "cell_type": "markdown",
   "metadata": {
    "_uuid": "7500dac8e4d829b2651b027dac78ea886ec95ca6"
   },
   "source": [
    "### Confusion matrix\n",
    "\n",
    "Let's visualize the confusion matrix."
   ]
  },
  {
   "cell_type": "code",
   "execution_count": 44,
   "metadata": {
    "_uuid": "39ac2f75b7317e00a688d4d6872a1671e9d2da21"
   },
   "outputs": [
    {
     "data": {
      "image/png": "[encoded data removed]",
      "text/plain": [
       "<Figure size 360x360 with 2 Axes>"
      ]
     },
     "metadata": {
      "needs_background": "light"
     },
     "output_type": "display_data"
    }
   ],
   "source": [
    "cm = pd.crosstab(valid_df[target].values, preds, rownames=['Actual'], colnames=['Predicted'])\n",
    "fig, (ax1) = plt.subplots(ncols=1, figsize=(5,5))\n",
    "sns.heatmap(cm, \n",
    "            xticklabels=['Not Fraud', 'Fraud'],\n",
    "            yticklabels=['Not Fraud', 'Fraud'],\n",
    "            annot=True,ax=ax1,\n",
    "            linewidths=.2,linecolor=\"Darkblue\", cmap=\"Blues\")\n",
    "plt.title('Confusion Matrix', fontsize=14)\n",
    "plt.show()"
   ]
  },
  {
   "cell_type": "markdown",
   "metadata": {
    "_uuid": "76f9e2cec59953df1c4a5fc83333443484929dac"
   },
   "source": [
    "Let's calculate also the ROC-AUC.\n",
    "\n",
    "\n",
    "### Area under curve"
   ]
  },
  {
   "cell_type": "code",
   "execution_count": 45,
   "metadata": {
    "_uuid": "701ff6a7cd11cd6556e50c9c073cbddf80555306"
   },
   "outputs": [
    {
     "data": {
      "text/plain": [
       "0.7653755906616"
      ]
     },
     "execution_count": 45,
     "metadata": {},
     "output_type": "execute_result"
    }
   ],
   "source": [
    "roc_auc_score(valid_df[target].values, preds)"
   ]
  },
  {
   "cell_type": "markdown",
   "metadata": {
    "_uuid": "18a05c1761c673b0838dd4d4a71b2315616737e2"
   },
   "source": [
    "The ROC-AUC score obtained with CatBoostClassifier is **0.86**."
   ]
  },
  {
   "cell_type": "markdown",
   "metadata": {
    "_uuid": "39c96e378c957d251f4d7e62a4def9e71aabfd81"
   },
   "source": [
    "## <a id=\"63\">XGBoost</a>"
   ]
  },
  {
   "cell_type": "markdown",
   "metadata": {
    "_uuid": "eaad6d74ea593d3a71bedf4252ba0bb5c1617159"
   },
   "source": [
    "XGBoost is a gradient boosting algorithm <a href='#8'>[7]</a>.\n",
    "\n",
    "Let's prepare the model."
   ]
  },
  {
   "cell_type": "markdown",
   "metadata": {
    "_uuid": "fa57161424d5de2cb482848c6104b8d51901fa02"
   },
   "source": [
    "### Prepare the model\n",
    "\n",
    "We initialize the DMatrix objects for training and validation, starting from the datasets. We also set some of the parameters used for the model tuning."
   ]
  },
  {
   "cell_type": "code",
   "execution_count": 50,
   "metadata": {
    "_uuid": "eeb48986db87e26413d3a5efa286d18e82c0efc6"
   },
   "outputs": [
    {
     "ename": "ValueError",
     "evalue": "feature_names may not contain [, ] or <",
     "output_type": "error",
     "traceback": [
      "\u001b[0;31m---------------------------------------------------------------------------\u001b[0m",
      "\u001b[0;31mValueError\u001b[0m                                Traceback (most recent call last)",
      "\u001b[0;32m<ipython-input-50-8024f7448ade>\u001b[0m in \u001b[0;36m<module>\u001b[0;34m\u001b[0m\n\u001b[1;32m      1\u001b[0m \u001b[0;31m# Prepare the train and valid datasets\u001b[0m\u001b[0;34m\u001b[0m\u001b[0;34m\u001b[0m\u001b[0;34m\u001b[0m\u001b[0m\n\u001b[0;32m----> 2\u001b[0;31m \u001b[0mdtrain\u001b[0m \u001b[0;34m=\u001b[0m \u001b[0mxgb\u001b[0m\u001b[0;34m.\u001b[0m\u001b[0mDMatrix\u001b[0m\u001b[0;34m(\u001b[0m\u001b[0mtrain_df\u001b[0m\u001b[0;34m[\u001b[0m\u001b[0mpredictors\u001b[0m\u001b[0;34m]\u001b[0m\u001b[0;34m,\u001b[0m \u001b[0mtrain_df\u001b[0m\u001b[0;34m[\u001b[0m\u001b[0mtarget\u001b[0m\u001b[0;34m]\u001b[0m\u001b[0;34m.\u001b[0m\u001b[0mvalues\u001b[0m\u001b[0;34m)\u001b[0m\u001b[0;34m\u001b[0m\u001b[0;34m\u001b[0m\u001b[0m\n\u001b[0m\u001b[1;32m      3\u001b[0m \u001b[0mdvalid\u001b[0m \u001b[0;34m=\u001b[0m \u001b[0mxgb\u001b[0m\u001b[0;34m.\u001b[0m\u001b[0mDMatrix\u001b[0m\u001b[0;34m(\u001b[0m\u001b[0mvalid_df\u001b[0m\u001b[0;34m[\u001b[0m\u001b[0mpredictors\u001b[0m\u001b[0;34m]\u001b[0m\u001b[0;34m,\u001b[0m \u001b[0mvalid_df\u001b[0m\u001b[0;34m[\u001b[0m\u001b[0mtarget\u001b[0m\u001b[0;34m]\u001b[0m\u001b[0;34m.\u001b[0m\u001b[0mvalues\u001b[0m\u001b[0;34m)\u001b[0m\u001b[0;34m\u001b[0m\u001b[0;34m\u001b[0m\u001b[0m\n\u001b[1;32m      4\u001b[0m \u001b[0mdtest\u001b[0m \u001b[0;34m=\u001b[0m \u001b[0mxgb\u001b[0m\u001b[0;34m.\u001b[0m\u001b[0mDMatrix\u001b[0m\u001b[0;34m(\u001b[0m\u001b[0mtest_df\u001b[0m\u001b[0;34m[\u001b[0m\u001b[0mpredictors\u001b[0m\u001b[0;34m]\u001b[0m\u001b[0;34m,\u001b[0m \u001b[0mtest_df\u001b[0m\u001b[0;34m[\u001b[0m\u001b[0mtarget\u001b[0m\u001b[0;34m]\u001b[0m\u001b[0;34m.\u001b[0m\u001b[0mvalues\u001b[0m\u001b[0;34m)\u001b[0m\u001b[0;34m\u001b[0m\u001b[0;34m\u001b[0m\u001b[0m\n\u001b[1;32m      5\u001b[0m \u001b[0mregex\u001b[0m \u001b[0;34m=\u001b[0m \u001b[0mre\u001b[0m\u001b[0;34m.\u001b[0m\u001b[0mcompile\u001b[0m\u001b[0;34m(\u001b[0m\u001b[0;34mr\"\\[|\\]|<\"\u001b[0m\u001b[0;34m,\u001b[0m \u001b[0mre\u001b[0m\u001b[0;34m.\u001b[0m\u001b[0mIGNORECASE\u001b[0m\u001b[0;34m)\u001b[0m\u001b[0;34m\u001b[0m\u001b[0;34m\u001b[0m\u001b[0m\n",
      "\u001b[0;32m/anaconda3/lib/python3.6/site-packages/xgboost/core.py\u001b[0m in \u001b[0;36m__init__\u001b[0;34m(self, data, label, missing, weight, silent, feature_names, feature_types, nthread)\u001b[0m\n\u001b[1;32m    383\u001b[0m                 \u001b[0mself\u001b[0m\u001b[0;34m.\u001b[0m\u001b[0mset_weight\u001b[0m\u001b[0;34m(\u001b[0m\u001b[0mweight\u001b[0m\u001b[0;34m)\u001b[0m\u001b[0;34m\u001b[0m\u001b[0;34m\u001b[0m\u001b[0m\n\u001b[1;32m    384\u001b[0m \u001b[0;34m\u001b[0m\u001b[0m\n\u001b[0;32m--> 385\u001b[0;31m         \u001b[0mself\u001b[0m\u001b[0;34m.\u001b[0m\u001b[0mfeature_names\u001b[0m \u001b[0;34m=\u001b[0m \u001b[0mfeature_names\u001b[0m\u001b[0;34m\u001b[0m\u001b[0;34m\u001b[0m\u001b[0m\n\u001b[0m\u001b[1;32m    386\u001b[0m         \u001b[0mself\u001b[0m\u001b[0;34m.\u001b[0m\u001b[0mfeature_types\u001b[0m \u001b[0;34m=\u001b[0m \u001b[0mfeature_types\u001b[0m\u001b[0;34m\u001b[0m\u001b[0;34m\u001b[0m\u001b[0m\n\u001b[1;32m    387\u001b[0m \u001b[0;34m\u001b[0m\u001b[0m\n",
      "\u001b[0;32m/anaconda3/lib/python3.6/site-packages/xgboost/core.py\u001b[0m in \u001b[0;36mfeature_names\u001b[0;34m(self, feature_names)\u001b[0m\n\u001b[1;32m    784\u001b[0m                        \u001b[0;32mnot\u001b[0m \u001b[0many\u001b[0m\u001b[0;34m(\u001b[0m\u001b[0mx\u001b[0m \u001b[0;32min\u001b[0m \u001b[0mf\u001b[0m \u001b[0;32mfor\u001b[0m \u001b[0mx\u001b[0m \u001b[0;32min\u001b[0m \u001b[0mset\u001b[0m\u001b[0;34m(\u001b[0m\u001b[0;34m(\u001b[0m\u001b[0;34m'['\u001b[0m\u001b[0;34m,\u001b[0m \u001b[0;34m']'\u001b[0m\u001b[0;34m,\u001b[0m \u001b[0;34m'<'\u001b[0m\u001b[0;34m)\u001b[0m\u001b[0;34m)\u001b[0m\u001b[0;34m)\u001b[0m\u001b[0;34m\u001b[0m\u001b[0;34m\u001b[0m\u001b[0m\n\u001b[1;32m    785\u001b[0m                        for f in feature_names):\n\u001b[0;32m--> 786\u001b[0;31m                 \u001b[0;32mraise\u001b[0m \u001b[0mValueError\u001b[0m\u001b[0;34m(\u001b[0m\u001b[0;34m'feature_names may not contain [, ] or <'\u001b[0m\u001b[0;34m)\u001b[0m\u001b[0;34m\u001b[0m\u001b[0;34m\u001b[0m\u001b[0m\n\u001b[0m\u001b[1;32m    787\u001b[0m         \u001b[0;32melse\u001b[0m\u001b[0;34m:\u001b[0m\u001b[0;34m\u001b[0m\u001b[0;34m\u001b[0m\u001b[0m\n\u001b[1;32m    788\u001b[0m             \u001b[0;31m# reset feature_types also\u001b[0m\u001b[0;34m\u001b[0m\u001b[0;34m\u001b[0m\u001b[0;34m\u001b[0m\u001b[0m\n",
      "\u001b[0;31mValueError\u001b[0m: feature_names may not contain [, ] or <"
     ]
    }
   ],
   "source": [
    "# Prepare the train and valid datasets\n",
    "dtrain = xgb.DMatrix(train_df[predictors], train_df[target].values)\n",
    "dvalid = xgb.DMatrix(valid_df[predictors], valid_df[target].values)\n",
    "dtest = xgb.DMatrix(test_df[predictors], test_df[target].values)\n",
    "regex = re.compile(r\"\\[|\\]|<\", re.IGNORECASE)\n",
    "\n",
    "#What to monitor (in this case, **train** and **valid**)\n",
    "watchlist = [(dtrain, 'train'), (dvalid, 'valid')]\n",
    "\n",
    "# Set xgboost parameters\n",
    "params = {}\n",
    "params['objective'] = 'binary:logistic'\n",
    "params['eta'] = 0.039\n",
    "params['silent'] = True\n",
    "params['max_depth'] = 2\n",
    "params['subsample'] = 0.8\n",
    "params['colsample_bytree'] = 0.9\n",
    "params['eval_metric'] = 'auc'\n",
    "params['random_state'] = RANDOM_STATE"
   ]
  },
  {
   "cell_type": "markdown",
   "metadata": {
    "_uuid": "9a6981b4ce504d3e836e19dd262c64b4b03e591a"
   },
   "source": [
    "### Train the model\n",
    "\n",
    "Let's train the model. "
   ]
  },
  {
   "cell_type": "code",
   "execution_count": 51,
   "metadata": {
    "_uuid": "5d066b1791e0d2463897b8a0c797cfbc38afa846"
   },
   "outputs": [
    {
     "ename": "NameError",
     "evalue": "name 'params' is not defined",
     "output_type": "error",
     "traceback": [
      "\u001b[0;31m---------------------------------------------------------------------------\u001b[0m",
      "\u001b[0;31mNameError\u001b[0m                                 Traceback (most recent call last)",
      "\u001b[0;32m<ipython-input-51-1ace408dfee0>\u001b[0m in \u001b[0;36m<module>\u001b[0;34m\u001b[0m\n\u001b[0;32m----> 1\u001b[0;31m model = xgb.train(params, \n\u001b[0m\u001b[1;32m      2\u001b[0m                 \u001b[0mdtrain\u001b[0m\u001b[0;34m,\u001b[0m\u001b[0;34m\u001b[0m\u001b[0;34m\u001b[0m\u001b[0m\n\u001b[1;32m      3\u001b[0m                 \u001b[0mMAX_ROUNDS\u001b[0m\u001b[0;34m,\u001b[0m\u001b[0;34m\u001b[0m\u001b[0;34m\u001b[0m\u001b[0m\n\u001b[1;32m      4\u001b[0m                 \u001b[0mwatchlist\u001b[0m\u001b[0;34m,\u001b[0m\u001b[0;34m\u001b[0m\u001b[0;34m\u001b[0m\u001b[0m\n\u001b[1;32m      5\u001b[0m                 \u001b[0mearly_stopping_rounds\u001b[0m\u001b[0;34m=\u001b[0m\u001b[0mEARLY_STOP\u001b[0m\u001b[0;34m,\u001b[0m\u001b[0;34m\u001b[0m\u001b[0;34m\u001b[0m\u001b[0m\n",
      "\u001b[0;31mNameError\u001b[0m: name 'params' is not defined"
     ]
    }
   ],
   "source": [
    "model = xgb.train(params, \n",
    "                dtrain, \n",
    "                MAX_ROUNDS, \n",
    "                watchlist, \n",
    "                early_stopping_rounds=EARLY_STOP, \n",
    "                maximize=True, \n",
    "                verbose_eval=VERBOSE_EVAL)"
   ]
  },
  {
   "cell_type": "markdown",
   "metadata": {
    "_uuid": "cb42148758c28251be27ce20828864b1e4df1b59"
   },
   "source": [
    "The best validation score (ROC-AUC) was **0.984**, for round **241**."
   ]
  },
  {
   "cell_type": "markdown",
   "metadata": {
    "_uuid": "ca7375264c18646c11c399fdb1aa5dfaece44bd5"
   },
   "source": [
    "### Plot variable importance"
   ]
  },
  {
   "cell_type": "code",
   "execution_count": 52,
   "metadata": {
    "_uuid": "2592eeaa312ba24ead2fea4cbd7b71d4537f4a75"
   },
   "outputs": [
    {
     "ename": "NameError",
     "evalue": "name 'model' is not defined",
     "output_type": "error",
     "traceback": [
      "\u001b[0;31m---------------------------------------------------------------------------\u001b[0m",
      "\u001b[0;31mNameError\u001b[0m                                 Traceback (most recent call last)",
      "\u001b[0;32m<ipython-input-52-478bd49d4b34>\u001b[0m in \u001b[0;36m<module>\u001b[0;34m\u001b[0m\n\u001b[1;32m      1\u001b[0m \u001b[0mfig\u001b[0m\u001b[0;34m,\u001b[0m \u001b[0;34m(\u001b[0m\u001b[0max\u001b[0m\u001b[0;34m)\u001b[0m \u001b[0;34m=\u001b[0m \u001b[0mplt\u001b[0m\u001b[0;34m.\u001b[0m\u001b[0msubplots\u001b[0m\u001b[0;34m(\u001b[0m\u001b[0mncols\u001b[0m\u001b[0;34m=\u001b[0m\u001b[0;36m1\u001b[0m\u001b[0;34m,\u001b[0m \u001b[0mfigsize\u001b[0m\u001b[0;34m=\u001b[0m\u001b[0;34m(\u001b[0m\u001b[0;36m8\u001b[0m\u001b[0;34m,\u001b[0m\u001b[0;36m5\u001b[0m\u001b[0;34m)\u001b[0m\u001b[0;34m)\u001b[0m\u001b[0;34m\u001b[0m\u001b[0;34m\u001b[0m\u001b[0m\n\u001b[0;32m----> 2\u001b[0;31m \u001b[0mxgb\u001b[0m\u001b[0;34m.\u001b[0m\u001b[0mplot_importance\u001b[0m\u001b[0;34m(\u001b[0m\u001b[0mmodel\u001b[0m\u001b[0;34m,\u001b[0m \u001b[0mheight\u001b[0m\u001b[0;34m=\u001b[0m\u001b[0;36m0.8\u001b[0m\u001b[0;34m,\u001b[0m \u001b[0mtitle\u001b[0m\u001b[0;34m=\u001b[0m\u001b[0;34m\"Features importance (XGBoost)\"\u001b[0m\u001b[0;34m,\u001b[0m \u001b[0max\u001b[0m\u001b[0;34m=\u001b[0m\u001b[0max\u001b[0m\u001b[0;34m,\u001b[0m \u001b[0mcolor\u001b[0m\u001b[0;34m=\u001b[0m\u001b[0;34m\"green\"\u001b[0m\u001b[0;34m)\u001b[0m\u001b[0;34m\u001b[0m\u001b[0;34m\u001b[0m\u001b[0m\n\u001b[0m\u001b[1;32m      3\u001b[0m \u001b[0mplt\u001b[0m\u001b[0;34m.\u001b[0m\u001b[0mshow\u001b[0m\u001b[0;34m(\u001b[0m\u001b[0;34m)\u001b[0m\u001b[0;34m\u001b[0m\u001b[0;34m\u001b[0m\u001b[0m\n",
      "\u001b[0;31mNameError\u001b[0m: name 'model' is not defined"
     ]
    },
    {
     "data": {
      "image/png": "[encoded data removed]",
      "text/plain": [
       "<Figure size 576x360 with 1 Axes>"
      ]
     },
     "metadata": {
      "needs_background": "light"
     },
     "output_type": "display_data"
    }
   ],
   "source": [
    "fig, (ax) = plt.subplots(ncols=1, figsize=(8,5))\n",
    "xgb.plot_importance(model, height=0.8, title=\"Features importance (XGBoost)\", ax=ax, color=\"green\") \n",
    "plt.show()"
   ]
  },
  {
   "cell_type": "markdown",
   "metadata": {
    "_uuid": "eb583b48bd0ffd38cddf4ea1eb41df20b3f5d566"
   },
   "source": [
    "### Predict test set\n",
    "\n",
    "\n",
    "We used the train and validation sets for training and validation. We will use the trained model now to predict the target value for the test set."
   ]
  },
  {
   "cell_type": "code",
   "execution_count": 53,
   "metadata": {
    "_uuid": "99b130c043241ecc0ea5c64df1a92940d6c458a8"
   },
   "outputs": [
    {
     "ename": "NameError",
     "evalue": "name 'model' is not defined",
     "output_type": "error",
     "traceback": [
      "\u001b[0;31m---------------------------------------------------------------------------\u001b[0m",
      "\u001b[0;31mNameError\u001b[0m                                 Traceback (most recent call last)",
      "\u001b[0;32m<ipython-input-53-c0d33d478ef7>\u001b[0m in \u001b[0;36m<module>\u001b[0;34m\u001b[0m\n\u001b[0;32m----> 1\u001b[0;31m \u001b[0mpreds\u001b[0m \u001b[0;34m=\u001b[0m \u001b[0mmodel\u001b[0m\u001b[0;34m.\u001b[0m\u001b[0mpredict\u001b[0m\u001b[0;34m(\u001b[0m\u001b[0mdtest\u001b[0m\u001b[0;34m)\u001b[0m\u001b[0;34m\u001b[0m\u001b[0;34m\u001b[0m\u001b[0m\n\u001b[0m",
      "\u001b[0;31mNameError\u001b[0m: name 'model' is not defined"
     ]
    }
   ],
   "source": [
    "preds = model.predict(dtest)"
   ]
  },
  {
   "cell_type": "markdown",
   "metadata": {
    "_uuid": "1eca8c0e71d679a8e2743ce20cd66934f101a0ac"
   },
   "source": [
    "### Area under curve\n",
    "\n",
    "Let's calculate ROC-AUC."
   ]
  },
  {
   "cell_type": "code",
   "execution_count": 54,
   "metadata": {
    "_uuid": "bb7ddd8e0f7fc14556495aaab62065e9cad7a2d3"
   },
   "outputs": [
    {
     "ename": "ValueError",
     "evalue": "Found input variables with inconsistent numbers of samples: [14939, 11951]",
     "output_type": "error",
     "traceback": [
      "\u001b[0;31m---------------------------------------------------------------------------\u001b[0m",
      "\u001b[0;31mValueError\u001b[0m                                Traceback (most recent call last)",
      "\u001b[0;32m<ipython-input-54-68e061e7ec4a>\u001b[0m in \u001b[0;36m<module>\u001b[0;34m\u001b[0m\n\u001b[0;32m----> 1\u001b[0;31m \u001b[0mroc_auc_score\u001b[0m\u001b[0;34m(\u001b[0m\u001b[0mtest_df\u001b[0m\u001b[0;34m[\u001b[0m\u001b[0mtarget\u001b[0m\u001b[0;34m]\u001b[0m\u001b[0;34m.\u001b[0m\u001b[0mvalues\u001b[0m\u001b[0;34m,\u001b[0m \u001b[0mpreds\u001b[0m\u001b[0;34m)\u001b[0m\u001b[0;34m\u001b[0m\u001b[0;34m\u001b[0m\u001b[0m\n\u001b[0m",
      "\u001b[0;32m/anaconda3/lib/python3.6/site-packages/sklearn/metrics/ranking.py\u001b[0m in \u001b[0;36mroc_auc_score\u001b[0;34m(y_true, y_score, average, sample_weight, max_fpr)\u001b[0m\n\u001b[1;32m    354\u001b[0m     return _average_binary_score(\n\u001b[1;32m    355\u001b[0m         \u001b[0m_binary_roc_auc_score\u001b[0m\u001b[0;34m,\u001b[0m \u001b[0my_true\u001b[0m\u001b[0;34m,\u001b[0m \u001b[0my_score\u001b[0m\u001b[0;34m,\u001b[0m \u001b[0maverage\u001b[0m\u001b[0;34m,\u001b[0m\u001b[0;34m\u001b[0m\u001b[0;34m\u001b[0m\u001b[0m\n\u001b[0;32m--> 356\u001b[0;31m         sample_weight=sample_weight)\n\u001b[0m\u001b[1;32m    357\u001b[0m \u001b[0;34m\u001b[0m\u001b[0m\n\u001b[1;32m    358\u001b[0m \u001b[0;34m\u001b[0m\u001b[0m\n",
      "\u001b[0;32m/anaconda3/lib/python3.6/site-packages/sklearn/metrics/base.py\u001b[0m in \u001b[0;36m_average_binary_score\u001b[0;34m(binary_metric, y_true, y_score, average, sample_weight)\u001b[0m\n\u001b[1;32m     75\u001b[0m \u001b[0;34m\u001b[0m\u001b[0m\n\u001b[1;32m     76\u001b[0m     \u001b[0;32mif\u001b[0m \u001b[0my_type\u001b[0m \u001b[0;34m==\u001b[0m \u001b[0;34m\"binary\"\u001b[0m\u001b[0;34m:\u001b[0m\u001b[0;34m\u001b[0m\u001b[0;34m\u001b[0m\u001b[0m\n\u001b[0;32m---> 77\u001b[0;31m         \u001b[0;32mreturn\u001b[0m \u001b[0mbinary_metric\u001b[0m\u001b[0;34m(\u001b[0m\u001b[0my_true\u001b[0m\u001b[0;34m,\u001b[0m \u001b[0my_score\u001b[0m\u001b[0;34m,\u001b[0m \u001b[0msample_weight\u001b[0m\u001b[0;34m=\u001b[0m\u001b[0msample_weight\u001b[0m\u001b[0;34m)\u001b[0m\u001b[0;34m\u001b[0m\u001b[0;34m\u001b[0m\u001b[0m\n\u001b[0m\u001b[1;32m     78\u001b[0m \u001b[0;34m\u001b[0m\u001b[0m\n\u001b[1;32m     79\u001b[0m     \u001b[0mcheck_consistent_length\u001b[0m\u001b[0;34m(\u001b[0m\u001b[0my_true\u001b[0m\u001b[0;34m,\u001b[0m \u001b[0my_score\u001b[0m\u001b[0;34m,\u001b[0m \u001b[0msample_weight\u001b[0m\u001b[0;34m)\u001b[0m\u001b[0;34m\u001b[0m\u001b[0;34m\u001b[0m\u001b[0m\n",
      "\u001b[0;32m/anaconda3/lib/python3.6/site-packages/sklearn/metrics/ranking.py\u001b[0m in \u001b[0;36m_binary_roc_auc_score\u001b[0;34m(y_true, y_score, sample_weight)\u001b[0m\n\u001b[1;32m    326\u001b[0m \u001b[0;34m\u001b[0m\u001b[0m\n\u001b[1;32m    327\u001b[0m         fpr, tpr, _ = roc_curve(y_true, y_score,\n\u001b[0;32m--> 328\u001b[0;31m                                 sample_weight=sample_weight)\n\u001b[0m\u001b[1;32m    329\u001b[0m         \u001b[0;32mif\u001b[0m \u001b[0mmax_fpr\u001b[0m \u001b[0;32mis\u001b[0m \u001b[0;32mNone\u001b[0m \u001b[0;32mor\u001b[0m \u001b[0mmax_fpr\u001b[0m \u001b[0;34m==\u001b[0m \u001b[0;36m1\u001b[0m\u001b[0;34m:\u001b[0m\u001b[0;34m\u001b[0m\u001b[0;34m\u001b[0m\u001b[0m\n\u001b[1;32m    330\u001b[0m             \u001b[0;32mreturn\u001b[0m \u001b[0mauc\u001b[0m\u001b[0;34m(\u001b[0m\u001b[0mfpr\u001b[0m\u001b[0;34m,\u001b[0m \u001b[0mtpr\u001b[0m\u001b[0;34m)\u001b[0m\u001b[0;34m\u001b[0m\u001b[0;34m\u001b[0m\u001b[0m\n",
      "\u001b[0;32m/anaconda3/lib/python3.6/site-packages/sklearn/metrics/ranking.py\u001b[0m in \u001b[0;36mroc_curve\u001b[0;34m(y_true, y_score, pos_label, sample_weight, drop_intermediate)\u001b[0m\n\u001b[1;32m    616\u001b[0m     \"\"\"\n\u001b[1;32m    617\u001b[0m     fps, tps, thresholds = _binary_clf_curve(\n\u001b[0;32m--> 618\u001b[0;31m         y_true, y_score, pos_label=pos_label, sample_weight=sample_weight)\n\u001b[0m\u001b[1;32m    619\u001b[0m \u001b[0;34m\u001b[0m\u001b[0m\n\u001b[1;32m    620\u001b[0m     \u001b[0;31m# Attempt to drop thresholds corresponding to points in between and\u001b[0m\u001b[0;34m\u001b[0m\u001b[0;34m\u001b[0m\u001b[0;34m\u001b[0m\u001b[0m\n",
      "\u001b[0;32m/anaconda3/lib/python3.6/site-packages/sklearn/metrics/ranking.py\u001b[0m in \u001b[0;36m_binary_clf_curve\u001b[0;34m(y_true, y_score, pos_label, sample_weight)\u001b[0m\n\u001b[1;32m    397\u001b[0m         \u001b[0;32mraise\u001b[0m \u001b[0mValueError\u001b[0m\u001b[0;34m(\u001b[0m\u001b[0;34m\"{0} format is not supported\"\u001b[0m\u001b[0;34m.\u001b[0m\u001b[0mformat\u001b[0m\u001b[0;34m(\u001b[0m\u001b[0my_type\u001b[0m\u001b[0;34m)\u001b[0m\u001b[0;34m)\u001b[0m\u001b[0;34m\u001b[0m\u001b[0;34m\u001b[0m\u001b[0m\n\u001b[1;32m    398\u001b[0m \u001b[0;34m\u001b[0m\u001b[0m\n\u001b[0;32m--> 399\u001b[0;31m     \u001b[0mcheck_consistent_length\u001b[0m\u001b[0;34m(\u001b[0m\u001b[0my_true\u001b[0m\u001b[0;34m,\u001b[0m \u001b[0my_score\u001b[0m\u001b[0;34m,\u001b[0m \u001b[0msample_weight\u001b[0m\u001b[0;34m)\u001b[0m\u001b[0;34m\u001b[0m\u001b[0;34m\u001b[0m\u001b[0m\n\u001b[0m\u001b[1;32m    400\u001b[0m     \u001b[0my_true\u001b[0m \u001b[0;34m=\u001b[0m \u001b[0mcolumn_or_1d\u001b[0m\u001b[0;34m(\u001b[0m\u001b[0my_true\u001b[0m\u001b[0;34m)\u001b[0m\u001b[0;34m\u001b[0m\u001b[0;34m\u001b[0m\u001b[0m\n\u001b[1;32m    401\u001b[0m     \u001b[0my_score\u001b[0m \u001b[0;34m=\u001b[0m \u001b[0mcolumn_or_1d\u001b[0m\u001b[0;34m(\u001b[0m\u001b[0my_score\u001b[0m\u001b[0;34m)\u001b[0m\u001b[0;34m\u001b[0m\u001b[0;34m\u001b[0m\u001b[0m\n",
      "\u001b[0;32m/anaconda3/lib/python3.6/site-packages/sklearn/utils/validation.py\u001b[0m in \u001b[0;36mcheck_consistent_length\u001b[0;34m(*arrays)\u001b[0m\n\u001b[1;32m    233\u001b[0m     \u001b[0;32mif\u001b[0m \u001b[0mlen\u001b[0m\u001b[0;34m(\u001b[0m\u001b[0muniques\u001b[0m\u001b[0;34m)\u001b[0m \u001b[0;34m>\u001b[0m \u001b[0;36m1\u001b[0m\u001b[0;34m:\u001b[0m\u001b[0;34m\u001b[0m\u001b[0;34m\u001b[0m\u001b[0m\n\u001b[1;32m    234\u001b[0m         raise ValueError(\"Found input variables with inconsistent numbers of\"\n\u001b[0;32m--> 235\u001b[0;31m                          \" samples: %r\" % [int(l) for l in lengths])\n\u001b[0m\u001b[1;32m    236\u001b[0m \u001b[0;34m\u001b[0m\u001b[0m\n\u001b[1;32m    237\u001b[0m \u001b[0;34m\u001b[0m\u001b[0m\n",
      "\u001b[0;31mValueError\u001b[0m: Found input variables with inconsistent numbers of samples: [14939, 11951]"
     ]
    }
   ],
   "source": [
    "roc_auc_score(test_df[target].values, preds)"
   ]
  },
  {
   "cell_type": "markdown",
   "metadata": {
    "_uuid": "61683181c29747a17162ad3d0ef871949c22a4c5"
   },
   "source": [
    "The AUC score for the prediction of fresh data (test set) is **0.974**."
   ]
  },
  {
   "cell_type": "markdown",
   "metadata": {
    "_uuid": "a49d1d15412ebde99ce816eef35dbcde02549388"
   },
   "source": [
    "## <a id=\"64\">LightGBM</a>\n",
    "\n",
    "\n",
    "Let's continue with another gradient boosting algorithm, LightGBM <a href='#8'>[8]</a> <a href='#8'>[9]</a>.\n",
    "\n",
    "\n",
    "### Define model parameters\n",
    "\n",
    "Let's set the parameters for the model. We will use these parameters only for the first lgb model."
   ]
  },
  {
   "cell_type": "code",
   "execution_count": 55,
   "metadata": {
    "_uuid": "17cb571126b6a176a016e7e962441a1fbefc4e1c"
   },
   "outputs": [],
   "source": [
    "params = {\n",
    "          'boosting_type': 'gbdt',\n",
    "          'objective': 'binary',\n",
    "          'metric':'auc',\n",
    "          'learning_rate': 0.05,\n",
    "          'num_leaves': 7,  # we should let it be smaller than 2^(max_depth)\n",
    "          'max_depth': 4,  # -1 means no limit\n",
    "          'min_child_samples': 100,  # Minimum number of data need in a child(min_data_in_leaf)\n",
    "          'max_bin': 100,  # Number of bucketed bin for feature values\n",
    "          'subsample': 0.9,  # Subsample ratio of the training instance.\n",
    "          'subsample_freq': 1,  # frequence of subsample, <=0 means no enable\n",
    "          'colsample_bytree': 0.7,  # Subsample ratio of columns when constructing each tree.\n",
    "          'min_child_weight': 0,  # Minimum sum of instance weight(hessian) needed in a child(leaf)\n",
    "          'min_split_gain': 0,  # lambda_l1, lambda_l2 and min_gain_to_split to regularization\n",
    "          'nthread': 8,\n",
    "          'verbose': 0,\n",
    "          'scale_pos_weight':150, # because training data is extremely unbalanced \n",
    "         }"
   ]
  },
  {
   "cell_type": "markdown",
   "metadata": {
    "_uuid": "0f28ad6e71f428ab8686ef5e12fcf18875cc34ba"
   },
   "source": [
    "### Prepare the model\n",
    "\n",
    "Let's prepare the model, creating the **Dataset**s data structures from the train and validation sets."
   ]
  },
  {
   "cell_type": "code",
   "execution_count": 56,
   "metadata": {
    "_uuid": "182aad358dc1359111ff8704d25b7449c0fa5901"
   },
   "outputs": [],
   "source": [
    "dtrain = lgb.Dataset(train_df[predictors].values, \n",
    "                     label=train_df[target].values,\n",
    "                     feature_name=predictors)\n",
    "\n",
    "dvalid = lgb.Dataset(valid_df[predictors].values,\n",
    "                     label=valid_df[target].values,\n",
    "                     feature_name=predictors)"
   ]
  },
  {
   "cell_type": "markdown",
   "metadata": {
    "_uuid": "589c9f7f08f158fc2fbb77ef0a5839a90fda82de"
   },
   "source": [
    "### Run the model\n",
    "\n",
    "Let's run the model, using the **train** function."
   ]
  },
  {
   "cell_type": "code",
   "execution_count": 57,
   "metadata": {
    "_uuid": "e0590673dd712c4070133451ef8b9f8f4bf07712"
   },
   "outputs": [
    {
     "name": "stdout",
     "output_type": "stream",
     "text": [
      "Training until validation scores don't improve for 100 rounds.\n",
      "[50]\ttrain's auc: 0.845983\tvalid's auc: 0.842716\n",
      "[100]\ttrain's auc: 0.849769\tvalid's auc: 0.841435\n",
      "Early stopping, best iteration is:\n",
      "[17]\ttrain's auc: 0.844419\tvalid's auc: 0.844303\n"
     ]
    }
   ],
   "source": [
    "evals_results = {}\n",
    "\n",
    "model = lgb.train(params, \n",
    "                  dtrain, \n",
    "                  valid_sets=[dtrain, dvalid], \n",
    "                  valid_names=['train','valid'], \n",
    "                  evals_result=evals_results, \n",
    "                  num_boost_round=MAX_ROUNDS,\n",
    "                  early_stopping_rounds=2*EARLY_STOP,\n",
    "                  verbose_eval=VERBOSE_EVAL, \n",
    "                  feval=None)\n"
   ]
  },
  {
   "cell_type": "markdown",
   "metadata": {
    "_uuid": "f90fd70986e7e55da136386d249c8dd9f7bcfba9"
   },
   "source": [
    "Best validation score  was obtained for round **85**, for which **AUC ~= 0.974**.\n",
    "\n",
    "Let's plot variable importance."
   ]
  },
  {
   "cell_type": "code",
   "execution_count": 58,
   "metadata": {
    "_uuid": "cc63244fa4d424f2680d60722c6ce3343f63f162"
   },
   "outputs": [
    {
     "data": {
      "image/png": "[encoded data removed]",
      "text/plain": [
       "<Figure size 576x360 with 1 Axes>"
      ]
     },
     "metadata": {
      "needs_background": "light"
     },
     "output_type": "display_data"
    }
   ],
   "source": [
    "fig, (ax) = plt.subplots(ncols=1, figsize=(8,5))\n",
    "lgb.plot_importance(model, height=0.8, title=\"Features importance (LightGBM)\", ax=ax,color=\"red\") \n",
    "plt.show()"
   ]
  },
  {
   "cell_type": "markdown",
   "metadata": {
    "_uuid": "61f871e6e32a14c21f0722df0be376e6726222e2"
   },
   "source": [
    "Let's predict now the target for the test data.\n",
    "\n",
    "### Predict test data"
   ]
  },
  {
   "cell_type": "code",
   "execution_count": 59,
   "metadata": {
    "_uuid": "76814af125071b56398f76511b1a88b7830300f2"
   },
   "outputs": [],
   "source": [
    "preds = model.predict(test_df[predictors])"
   ]
  },
  {
   "cell_type": "markdown",
   "metadata": {
    "_uuid": "e1b3afefa6f55801c55535e4a0e84d83be7d158d"
   },
   "source": [
    "### Area under curve\n",
    "\n",
    "Let's calculate the ROC-AUC score for the prediction."
   ]
  },
  {
   "cell_type": "code",
   "execution_count": 60,
   "metadata": {
    "_uuid": "c95c74cecb7a9facd24e11d763728e488c364035"
   },
   "outputs": [
    {
     "data": {
      "text/plain": [
       "0.825760313135218"
      ]
     },
     "execution_count": 60,
     "metadata": {},
     "output_type": "execute_result"
    }
   ],
   "source": [
    "roc_auc_score(test_df[target].values, preds)"
   ]
  },
  {
   "cell_type": "markdown",
   "metadata": {
    "_uuid": "6e4664a3177f437bd72f58149ad3e0b970d870d2"
   },
   "source": [
    "The ROC-AUC score obtained for the test set is **0.946**."
   ]
  },
  {
   "cell_type": "markdown",
   "metadata": {
    "_uuid": "46283d37fd7eb33b7a93447a9809f384b2fd7d13"
   },
   "source": [
    "### Training and validation using cross-validation\n",
    "\n",
    "Let's use now cross-validation. We will use cross-validation (KFolds) with 5 folds. Data is divided in 5 folds and, by rotation, we are training using 4 folds (n-1) and validate using the 5th (nth) fold.\n",
    "\n",
    "Test set is calculated as an average of the predictions "
   ]
  },
  {
   "cell_type": "code",
   "execution_count": 61,
   "metadata": {
    "_uuid": "9b277ba40e30206134a6796eeaf979fc2f57274e"
   },
   "outputs": [
    {
     "name": "stdout",
     "output_type": "stream",
     "text": [
      "Training until validation scores don't improve for 50 rounds.\n",
      "[50]\ttraining's auc: 0.844364\tvalid_1's auc: 0.82899\n",
      "Early stopping, best iteration is:\n",
      "[1]\ttraining's auc: 0.834091\tvalid_1's auc: 0.832343\n",
      "Fold  1 AUC : 0.832343\n",
      "Training until validation scores don't improve for 50 rounds.\n",
      "[50]\ttraining's auc: 0.841845\tvalid_1's auc: 0.825741\n",
      "Early stopping, best iteration is:\n",
      "[1]\ttraining's auc: 0.833625\tvalid_1's auc: 0.834001\n",
      "Fold  2 AUC : 0.834001\n",
      "Training until validation scores don't improve for 50 rounds.\n",
      "[50]\ttraining's auc: 0.849516\tvalid_1's auc: 0.816299\n",
      "Early stopping, best iteration is:\n",
      "[1]\ttraining's auc: 0.842648\tvalid_1's auc: 0.816821\n",
      "Fold  3 AUC : 0.816821\n",
      "Training until validation scores don't improve for 50 rounds.\n",
      "[50]\ttraining's auc: 0.838873\tvalid_1's auc: 0.838531\n",
      "Early stopping, best iteration is:\n",
      "[15]\ttraining's auc: 0.838917\tvalid_1's auc: 0.839477\n",
      "Fold  4 AUC : 0.839477\n",
      "Training until validation scores don't improve for 50 rounds.\n",
      "[50]\ttraining's auc: 0.847647\tvalid_1's auc: 0.819916\n",
      "Early stopping, best iteration is:\n",
      "[13]\ttraining's auc: 0.848018\tvalid_1's auc: 0.819074\n",
      "Fold  5 AUC : 0.819074\n",
      "Full AUC score 0.806322\n"
     ]
    }
   ],
   "source": [
    "kf = KFold(n_splits = NUMBER_KFOLDS, random_state = RANDOM_STATE, shuffle = True)\n",
    "\n",
    "# Create arrays and dataframes to store results\n",
    "oof_preds = np.zeros(train_df.shape[0])\n",
    "test_preds = np.zeros(test_df.shape[0])\n",
    "feature_importance_df = pd.DataFrame()\n",
    "n_fold = 0\n",
    "for train_idx, valid_idx in kf.split(train_df):\n",
    "    train_x, train_y = train_df[predictors].iloc[train_idx],train_df[target].iloc[train_idx]\n",
    "    valid_x, valid_y = train_df[predictors].iloc[valid_idx],train_df[target].iloc[valid_idx]\n",
    "    \n",
    "    evals_results = {}\n",
    "    model =  LGBMClassifier(\n",
    "                  nthread=-1,\n",
    "                  n_estimators=2000,\n",
    "                  learning_rate=0.01,\n",
    "                  num_leaves=80,\n",
    "                  colsample_bytree=0.98,\n",
    "                  subsample=0.78,\n",
    "                  reg_alpha=0.04,\n",
    "                  reg_lambda=0.073,\n",
    "                  subsample_for_bin=50,\n",
    "                  boosting_type='gbdt',\n",
    "                  is_unbalance=False,\n",
    "                  min_split_gain=0.025,\n",
    "                  min_child_weight=40,\n",
    "                  min_child_samples=510,\n",
    "                  objective='binary',\n",
    "                  metric='auc',\n",
    "                  silent=-1,\n",
    "                  verbose=-1,\n",
    "                  feval=None)\n",
    "    model.fit(train_x, train_y, eval_set=[(train_x, train_y), (valid_x, valid_y)], \n",
    "                eval_metric= 'auc', verbose= VERBOSE_EVAL, early_stopping_rounds= EARLY_STOP)\n",
    "    \n",
    "    oof_preds[valid_idx] = model.predict_proba(valid_x, num_iteration=model.best_iteration_)[:, 1]\n",
    "    test_preds += model.predict_proba(test_df[predictors], num_iteration=model.best_iteration_)[:, 1] / kf.n_splits\n",
    "    \n",
    "    fold_importance_df = pd.DataFrame()\n",
    "    fold_importance_df[\"feature\"] = predictors\n",
    "    fold_importance_df[\"importance\"] = clf.feature_importances_\n",
    "    fold_importance_df[\"fold\"] = n_fold + 1\n",
    "    \n",
    "    feature_importance_df = pd.concat([feature_importance_df, fold_importance_df], axis=0)\n",
    "    print('Fold %2d AUC : %.6f' % (n_fold + 1, roc_auc_score(valid_y, oof_preds[valid_idx])))\n",
    "    del model, train_x, train_y, valid_x, valid_y\n",
    "    gc.collect()\n",
    "    n_fold = n_fold + 1\n",
    "train_auc_score = roc_auc_score(train_df[target], oof_preds)\n",
    "print('Full AUC score %.6f' % train_auc_score)                                    "
   ]
  },
  {
   "cell_type": "markdown",
   "metadata": {
    "_uuid": "f5c6d3d5c436367802d4a5f32def281767b439ae"
   },
   "source": [
    "The AUC score for the prediction from the test data was 0.93.\n",
    "\n",
    "We prepare the test prediction, from the averaged predictions for test over the 5 folds."
   ]
  },
  {
   "cell_type": "code",
   "execution_count": 62,
   "metadata": {
    "_uuid": "e2a1e8c82317fd667ba9c159456602a42599e784"
   },
   "outputs": [],
   "source": [
    "pred = test_preds"
   ]
  },
  {
   "cell_type": "markdown",
   "metadata": {
    "_uuid": "c281bff3a66a72421dd66976494080839fdead29"
   },
   "source": [
    "# <a id=\"7\">Conclusions</a>"
   ]
  },
  {
   "cell_type": "code",
   "execution_count": null,
   "metadata": {},
   "outputs": [],
   "source": []
  }
 ],
 "metadata": {
  "kernelspec": {
   "display_name": "Python 3",
   "language": "python",
   "name": "python3"
  },
  "language_info": {
   "codemirror_mode": {
    "name": "ipython",
    "version": 3
   },
   "file_extension": ".py",
   "mimetype": "text/x-python",
   "name": "python",
   "nbconvert_exporter": "python",
   "pygments_lexer": "ipython3",
   "version": "3.6.8"
  }
 },
 "nbformat": 4,
 "nbformat_minor": 1
}
